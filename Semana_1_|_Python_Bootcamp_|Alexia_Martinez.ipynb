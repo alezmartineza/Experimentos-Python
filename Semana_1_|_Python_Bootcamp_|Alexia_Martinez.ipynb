{
  "nbformat": 4,
  "nbformat_minor": 0,
  "metadata": {
    "colab": {
      "provenance": [],
      "authorship_tag": "ABX9TyM39gBnMvp+WscxHCRQutm9",
      "include_colab_link": true
    },
    "kernelspec": {
      "name": "python3",
      "display_name": "Python 3"
    },
    "language_info": {
      "name": "python"
    }
  },
  "cells": [
    {
      "cell_type": "markdown",
      "metadata": {
        "id": "view-in-github",
        "colab_type": "text"
      },
      "source": [
        "<a href=\"https://colab.research.google.com/github/alezmartineza/Experimentos-Python/blob/main/Semana_1_%7C_Python_Bootcamp_%7CAlexia_Martinez.ipynb\" target=\"_parent\"><img src=\"https://colab.research.google.com/assets/colab-badge.svg\" alt=\"Open In Colab\"/></a>"
      ]
    },
    {
      "cell_type": "markdown",
      "source": [
        "# Este es un comentario"
      ],
      "metadata": {
        "id": "AsNUsvfurFvu"
      }
    },
    {
      "cell_type": "markdown",
      "source": [
        "\"\"\"\n",
        "Este es un comentario multilínea\n",
        "\"\"\""
      ],
      "metadata": {
        "id": "UTESM-qFrM3w"
      }
    },
    {
      "cell_type": "code",
      "execution_count": null,
      "metadata": {
        "id": "c_Aw1rPXmPBT",
        "colab": {
          "base_uri": "https://localhost:8080/"
        },
        "outputId": "dc09b967-946e-45cc-8913-4990975f1925"
      },
      "outputs": [
        {
          "output_type": "stream",
          "name": "stdout",
          "text": [
            "Hola mundo\n"
          ]
        }
      ],
      "source": [
        "print(\"Hola mundo\")"
      ]
    },
    {
      "cell_type": "code",
      "source": [
        "print(\"Bienvenido a Python\")\n",
        "print('Usando comillas simples')"
      ],
      "metadata": {
        "colab": {
          "base_uri": "https://localhost:8080/"
        },
        "id": "Xfkrt_I6s_xO",
        "outputId": "96ed6383-029e-4cc2-b6c1-d450bf7a5a67"
      },
      "execution_count": null,
      "outputs": [
        {
          "output_type": "stream",
          "name": "stdout",
          "text": [
            "Bienvenido a Python\n",
            "Usando comillas simples\n"
          ]
        }
      ]
    },
    {
      "cell_type": "code",
      "source": [
        "print(42)\n",
        "print(3.14)"
      ],
      "metadata": {
        "colab": {
          "base_uri": "https://localhost:8080/"
        },
        "id": "2MvQlLzttOpe",
        "outputId": "8288c702-e103-4dad-a9b8-e4800d0b9dfd"
      },
      "execution_count": null,
      "outputs": [
        {
          "output_type": "stream",
          "name": "stdout",
          "text": [
            "42\n",
            "3.14\n"
          ]
        }
      ]
    },
    {
      "cell_type": "code",
      "source": [
        "print(\"Mi nombre es\", \"Alexia\", \"y tengo\", 35, \"años\")"
      ],
      "metadata": {
        "colab": {
          "base_uri": "https://localhost:8080/"
        },
        "id": "6m_E2Ts6tidE",
        "outputId": "dd07a6cb-5dff-4016-e0cd-bd26914b19c6"
      },
      "execution_count": null,
      "outputs": [
        {
          "output_type": "stream",
          "name": "stdout",
          "text": [
            "Mi nombre es Alexia y tengo 35 años\n"
          ]
        }
      ]
    },
    {
      "cell_type": "code",
      "source": [
        "# Pedir el nombre y mostrarlo\n",
        "nombre = input(\"Escribe tu nombre: \")\n",
        "print(\"Hola\", nombre)\n",
        "\n",
        "# Pedir un número y mostrarlo\n",
        "edad = input(\"Escribe tu edad: \")\n",
        "print(\"Tu edad es\", edad)\n",
        "\n",
        "# Pedir el color y animal favorito\n",
        "color = input(\"¿Cuál es tu color favorito?: \")\n",
        "animal = input(\"¿Cuál es tu animal favorito?: \")\n",
        "print(\"Tu combinación favorita es\", color, \"y\", animal + \".\")"
      ],
      "metadata": {
        "colab": {
          "base_uri": "https://localhost:8080/"
        },
        "id": "_l3yFvyA_I4O",
        "outputId": "8104aabe-2051-4ee8-ae46-c18f6053f2be"
      },
      "execution_count": null,
      "outputs": [
        {
          "output_type": "stream",
          "name": "stdout",
          "text": [
            "Escribe tu nombre: Alexia \n",
            "Hola Alexia \n",
            "Escribe tu edad: 35\n",
            "Tu edad es 35\n",
            "¿Cuál es tu color favorito?: Verde\n",
            "¿Cuál es tu animal favorito?: Perro\n",
            "Tu combinación favorita es Verde y Perro.\n"
          ]
        }
      ]
    },
    {
      "cell_type": "code",
      "source": [
        "cancion = input(\"¿Cuál es tu canción favorita?: \")\n",
        "pelicula = input(\"¿Cuál es tu película favorita?: \")\n",
        "print(\"Tu canción favorita es\", cancion, \"y tu película favorita es\", pelicula)"
      ],
      "metadata": {
        "colab": {
          "base_uri": "https://localhost:8080/"
        },
        "id": "_hV-zznk_-ZL",
        "outputId": "b2bb5ef5-a38d-4f20-c83a-1c5bddcecca4"
      },
      "execution_count": null,
      "outputs": [
        {
          "output_type": "stream",
          "name": "stdout",
          "text": [
            "¿Cuál es tu canción favorita?: When youre gone \n",
            "¿Cuál es tu película favorita?: Dracula\n",
            "Tu canción favorita es When youre gone  y tu película favorita es Dracula\n"
          ]
        }
      ]
    },
    {
      "cell_type": "code",
      "source": [
        "ciudad = \"San Salvador\"\n",
        "print(ciudad)"
      ],
      "metadata": {
        "colab": {
          "base_uri": "https://localhost:8080/"
        },
        "id": "63hSpfNrAWW_",
        "outputId": "8eeda1ad-99e6-4df4-91ec-fa97868c0d42"
      },
      "execution_count": null,
      "outputs": [
        {
          "output_type": "stream",
          "name": "stdout",
          "text": [
            "San Salvador\n"
          ]
        }
      ]
    },
    {
      "cell_type": "code",
      "source": [
        "nombre = \"Alexia\"\n",
        "apellido = \"Martinez\"\n",
        "edad = 35\n",
        "print(nombre, apellido, edad)"
      ],
      "metadata": {
        "colab": {
          "base_uri": "https://localhost:8080/"
        },
        "id": "ZoP356jcGbSb",
        "outputId": "42e706e3-49fd-4b76-d8c3-1f2e47a6b028"
      },
      "execution_count": null,
      "outputs": [
        {
          "output_type": "stream",
          "name": "stdout",
          "text": [
            "Alexia Martinez 35\n"
          ]
        }
      ]
    },
    {
      "cell_type": "code",
      "source": [
        "apellido2 = \"Martínez\"\n",
        "print(apellido2)"
      ],
      "metadata": {
        "colab": {
          "base_uri": "https://localhost:8080/"
        },
        "id": "KXaInKFqGqIt",
        "outputId": "f2a9a88a-1333-45b5-97e3-c712f010723e"
      },
      "execution_count": null,
      "outputs": [
        {
          "output_type": "stream",
          "name": "stdout",
          "text": [
            "Martínez\n"
          ]
        }
      ]
    },
    {
      "cell_type": "code",
      "source": [
        "nombre_usuario = \"Alexia\"\n",
        "print(nombre_usuario)"
      ],
      "metadata": {
        "colab": {
          "base_uri": "https://localhost:8080/"
        },
        "id": "tIzXezpKGvLI",
        "outputId": "d87d9264-912e-461b-aca6-b5be9342f8c5"
      },
      "execution_count": null,
      "outputs": [
        {
          "output_type": "stream",
          "name": "stdout",
          "text": [
            "Alexia\n"
          ]
        }
      ]
    },
    {
      "cell_type": "code",
      "source": [
        "curso = \"Python\"\n",
        "Curso = \"React\"\n",
        "print(curso, Curso)"
      ],
      "metadata": {
        "colab": {
          "base_uri": "https://localhost:8080/"
        },
        "id": "LWmbLDLqG9TQ",
        "outputId": "c627bd66-a1c6-409e-b6d1-b57133a3ba51"
      },
      "execution_count": null,
      "outputs": [
        {
          "output_type": "stream",
          "name": "stdout",
          "text": [
            "Python React\n"
          ]
        }
      ]
    },
    {
      "cell_type": "code",
      "source": [
        "nombre_completo_usuario = \"Noe Nixon\"\n",
        "print(nombre_completo_usuario)"
      ],
      "metadata": {
        "colab": {
          "base_uri": "https://localhost:8080/"
        },
        "id": "0ODrGEG4G_HW",
        "outputId": "2379ae10-e018-4345-de5b-175c272f4a90"
      },
      "execution_count": null,
      "outputs": [
        {
          "output_type": "stream",
          "name": "stdout",
          "text": [
            "Noe Nixon\n"
          ]
        }
      ]
    },
    {
      "cell_type": "code",
      "source": [
        "precio_venta = 150\n",
        "print(precio_venta)"
      ],
      "metadata": {
        "colab": {
          "base_uri": "https://localhost:8080/"
        },
        "id": "-Zp9RxjfHNQI",
        "outputId": "489f1fe3-d4cc-4901-b01f-aa7c15aed242"
      },
      "execution_count": null,
      "outputs": [
        {
          "output_type": "stream",
          "name": "stdout",
          "text": [
            "150\n"
          ]
        }
      ]
    },
    {
      "cell_type": "code",
      "source": [
        "pais = \"El Salvador\"\n",
        "print(type(pais))  # <class 'str'>"
      ],
      "metadata": {
        "colab": {
          "base_uri": "https://localhost:8080/"
        },
        "id": "dVM0ApW5IQ-9",
        "outputId": "38bd2687-2984-4f19-f9ed-c11f8e67f0e1"
      },
      "execution_count": null,
      "outputs": [
        {
          "output_type": "stream",
          "name": "stdout",
          "text": [
            "<class 'str'>\n"
          ]
        }
      ]
    },
    {
      "cell_type": "code",
      "source": [
        "# Ejercicio 1\n",
        "# Crea una variable con tu nombre y muéstrala en pantalla.\n",
        "nombre = \"Alexia\"\n",
        "print(nombre)\n",
        "\n",
        "# Ejercicio 2\n",
        "# Crea dos variables con nombre y apellido, y únelas en una sola cadena usando + (concatenación).\n",
        "nombre = \"Alexia\"\n",
        "apellido = \"Martinez\"\n",
        "print(nombre + \" \" + apellido)\n",
        "\n",
        "# Ejercicio 3\n",
        "# Crea una variable con un texto que contenga comillas dobles dentro de comillas simples (o al revés).\n",
        "frase = 'Ella dijo: \"Me gusta aprender sobre IA\"'\n",
        "print(frase)\n",
        "\n",
        "# Ejercicio 4\n",
        "# Corrige el siguiente código para que sea válido.\n",
        "# Usando comillas simples externas\n",
        "frase = 'El lenguaje Python es \"Interesante\"'\n",
        "print(frase)"
      ],
      "metadata": {
        "colab": {
          "base_uri": "https://localhost:8080/"
        },
        "id": "5rM-9zycIyGn",
        "outputId": "16a30755-73ae-4427-9d2c-e1d14e4b45c0"
      },
      "execution_count": null,
      "outputs": [
        {
          "output_type": "stream",
          "name": "stdout",
          "text": [
            "Alexia\n",
            "Alexia Martinez\n",
            "Ella dijo: \"Me gusta aprender sobre IA\"\n",
            "El lenguaje Python es \"Interesante\"\n"
          ]
        }
      ]
    },
    {
      "cell_type": "code",
      "source": [
        "edad = 35\n",
        "print(edad)"
      ],
      "metadata": {
        "colab": {
          "base_uri": "https://localhost:8080/"
        },
        "id": "kMbm_mmbK27I",
        "outputId": "6316c1d2-362a-4bbf-f42b-3d721ec7efcd"
      },
      "execution_count": null,
      "outputs": [
        {
          "output_type": "stream",
          "name": "stdout",
          "text": [
            "35\n"
          ]
        }
      ]
    },
    {
      "cell_type": "code",
      "source": [
        "pi = 3.1416\n",
        "print(pi)"
      ],
      "metadata": {
        "colab": {
          "base_uri": "https://localhost:8080/"
        },
        "id": "iR6yZP7FK64m",
        "outputId": "917e1811-1477-4190-b8cd-ff7cc39081e8"
      },
      "execution_count": null,
      "outputs": [
        {
          "output_type": "stream",
          "name": "stdout",
          "text": [
            "3.1416\n"
          ]
        }
      ]
    },
    {
      "cell_type": "code",
      "source": [
        "precio = 19.99\n",
        "cantidad = 3\n",
        "print(precio, cantidad)"
      ],
      "metadata": {
        "colab": {
          "base_uri": "https://localhost:8080/"
        },
        "id": "054-0otFK-uu",
        "outputId": "09a7563f-4ecb-4a4f-af74-5b0e3d1f1663"
      },
      "execution_count": null,
      "outputs": [
        {
          "output_type": "stream",
          "name": "stdout",
          "text": [
            "19.99 3\n"
          ]
        }
      ]
    },
    {
      "cell_type": "code",
      "source": [
        "# Ejercicio 1: Boolean\n",
        "es_activo = True\n",
        "print(es_activo)\n",
        "\n",
        "# Ejercicio 2: Boolean\n",
        "es_administrador = False\n",
        "print(es_administrador)"
      ],
      "metadata": {
        "id": "OlMuSRX3LLfg"
      },
      "execution_count": null,
      "outputs": []
    },
    {
      "cell_type": "code",
      "source": [
        "print(5 + 3)  # 8"
      ],
      "metadata": {
        "colab": {
          "base_uri": "https://localhost:8080/"
        },
        "id": "QxwnCRbetoL7",
        "outputId": "997878a8-868f-498d-eff7-ccd900f55af5"
      },
      "execution_count": null,
      "outputs": [
        {
          "output_type": "stream",
          "name": "stdout",
          "text": [
            "8\n"
          ]
        }
      ]
    },
    {
      "cell_type": "code",
      "source": [
        "print(15 - 7)  # 8"
      ],
      "metadata": {
        "colab": {
          "base_uri": "https://localhost:8080/"
        },
        "id": "H055eY6dtxgB",
        "outputId": "cc058ede-1470-4e25-b9a0-ced8178327bd"
      },
      "execution_count": null,
      "outputs": [
        {
          "output_type": "stream",
          "name": "stdout",
          "text": [
            "8\n"
          ]
        }
      ]
    },
    {
      "cell_type": "code",
      "source": [
        "print(8 * 6)  # 48"
      ],
      "metadata": {
        "colab": {
          "base_uri": "https://localhost:8080/"
        },
        "id": "EdTg2gqat4i7",
        "outputId": "a77f4121-86e1-4eae-c363-11d1ffb82659"
      },
      "execution_count": null,
      "outputs": [
        {
          "output_type": "stream",
          "name": "stdout",
          "text": [
            "48\n"
          ]
        }
      ]
    },
    {
      "cell_type": "code",
      "source": [
        "print(45 / 9)  # 5.0"
      ],
      "metadata": {
        "colab": {
          "base_uri": "https://localhost:8080/"
        },
        "id": "aTBLhNrLuJvm",
        "outputId": "98308d72-d4c5-4902-b28d-197c796ddc9b"
      },
      "execution_count": null,
      "outputs": [
        {
          "output_type": "stream",
          "name": "stdout",
          "text": [
            "5.0\n"
          ]
        }
      ]
    },
    {
      "cell_type": "code",
      "source": [
        "print(23 // 5)  # 4"
      ],
      "metadata": {
        "colab": {
          "base_uri": "https://localhost:8080/"
        },
        "id": "XONtTAI8uOj1",
        "outputId": "28b3789a-c4bc-46bd-d877-12add86c13c9"
      },
      "execution_count": null,
      "outputs": [
        {
          "output_type": "stream",
          "name": "stdout",
          "text": [
            "4\n"
          ]
        }
      ]
    },
    {
      "cell_type": "code",
      "source": [
        "print(23 % 5)  # 3"
      ],
      "metadata": {
        "colab": {
          "base_uri": "https://localhost:8080/"
        },
        "id": "x6XC6spwuSfk",
        "outputId": "f2be4c23-f023-4a08-e268-3e6887b170ea"
      },
      "execution_count": null,
      "outputs": [
        {
          "output_type": "stream",
          "name": "stdout",
          "text": [
            "3\n"
          ]
        }
      ]
    },
    {
      "cell_type": "code",
      "source": [
        "print(2 ** 5)  # 32"
      ],
      "metadata": {
        "colab": {
          "base_uri": "https://localhost:8080/"
        },
        "id": "OIKOfRciuWCm",
        "outputId": "095cb7a0-4926-43cf-f0bf-8dce672eaf9a"
      },
      "execution_count": null,
      "outputs": [
        {
          "output_type": "stream",
          "name": "stdout",
          "text": [
            "32\n"
          ]
        }
      ]
    },
    {
      "cell_type": "code",
      "source": [
        "# Ejercicio 1\n",
        "print(2 + 3 * 4)      # 14  -> 3*4=12; 2+12=14\n",
        "\n",
        "# Ejercicio 2\n",
        "print((2 + 3) * 4)    # 20  -> (2+3)=5; 5*4=20\n",
        "\n",
        "# Ejercicio 3\n",
        "print(10 - 6 / 3)     # 8.0 -> 6/3=2.0; 10-2.0=8.0\n",
        "\n",
        "# Ejercicio 4\n",
        "print(2 + 3 * 4 ** 2) # 50  -> 4**2=16; 3*16=48; 2+48=50\n",
        "\n",
        "# Ejercicio 5\n",
        "print((2 + 3) * 4 ** 2)  # 80 -> (2+3)=5; 4**2=16; 5*16=80\n",
        "\n",
        "# Ejercicio 6\n",
        "print(100 / 5 * 2)    # 40.0 -> 100/5=20.0; 20.0*2=40.0\n",
        "\n",
        "# Ejercicio 7\n",
        "print(7 + 8 // 3)     # 9  -> 8//3=2; 7+2=9\n",
        "\n",
        "# Ejercicio 8\n",
        "print(7 + 8 % 3 * 2)  # 11 -> 8%3=2; 2*2=4; 7+4=11\n",
        "\n",
        "# Ejercicio 9\n",
        "print((17 // 4) * 2 + (17 % 4))  # 9 -> 17//4=4; 17%4=1; 4*2=8; 8+1=9"
      ],
      "metadata": {
        "colab": {
          "base_uri": "https://localhost:8080/"
        },
        "id": "c0YqKQV3ucv0",
        "outputId": "4313a69c-a52f-4017-ab44-a71bce8d2f93"
      },
      "execution_count": null,
      "outputs": [
        {
          "output_type": "stream",
          "name": "stdout",
          "text": [
            "14\n",
            "20\n",
            "8.0\n",
            "50\n",
            "80\n",
            "40.0\n",
            "9\n",
            "11\n",
            "9\n"
          ]
        }
      ]
    },
    {
      "cell_type": "code",
      "source": [
        "n = int(input(\"Ingresa un número entero: \"))\n",
        "n_float = float(n)\n",
        "print(n_float, type(n_float))  # p.ej. 12.0 <class 'float'>"
      ],
      "metadata": {
        "colab": {
          "base_uri": "https://localhost:8080/"
        },
        "id": "KqQVaaR64WFv",
        "outputId": "a9d9bc82-00fd-4a74-852d-6ef82420383f"
      },
      "execution_count": null,
      "outputs": [
        {
          "output_type": "stream",
          "name": "stdout",
          "text": [
            "Ingresa un número entero: 10\n",
            "10.0 <class 'float'>\n"
          ]
        }
      ]
    },
    {
      "cell_type": "code",
      "source": [
        "valor = int(3.99)   # trunca hacia 0, no redondea\n",
        "print(valor)        # 3"
      ],
      "metadata": {
        "colab": {
          "base_uri": "https://localhost:8080/"
        },
        "id": "O9XtWSRm8sfl",
        "outputId": "41a63bf6-157e-4259-c30a-008e453018e6"
      },
      "execution_count": null,
      "outputs": [
        {
          "output_type": "stream",
          "name": "stdout",
          "text": [
            "3\n"
          ]
        }
      ]
    },
    {
      "cell_type": "code",
      "source": [
        "resultado = int(\"2025\") + 5\n",
        "print(resultado)  # 2030"
      ],
      "metadata": {
        "colab": {
          "base_uri": "https://localhost:8080/"
        },
        "id": "IN_1-39_8x0D",
        "outputId": "05a368fa-8c56-4402-f3f0-25be2bcd1340"
      },
      "execution_count": null,
      "outputs": [
        {
          "output_type": "stream",
          "name": "stdout",
          "text": [
            "2030\n"
          ]
        }
      ]
    },
    {
      "cell_type": "code",
      "source": [
        "numero = 150\n",
        "mensaje = str(numero) + \" es mi número favorito\"  # sin f-strings\n",
        "print(mensaje)"
      ],
      "metadata": {
        "colab": {
          "base_uri": "https://localhost:8080/"
        },
        "id": "o1EZs3my82cK",
        "outputId": "bc5fb842-bbf4-442a-f299-39907ae0be7a"
      },
      "execution_count": null,
      "outputs": [
        {
          "output_type": "stream",
          "name": "stdout",
          "text": [
            "150 es mi número favorito\n"
          ]
        }
      ]
    },
    {
      "cell_type": "code",
      "source": [
        "dato = \"50.5\"\n",
        "print(type(dato))          # <class 'str'>\n",
        "dato_float = float(dato)\n",
        "print(dato_float, type(dato_float))  # 50.5 <class 'float'>"
      ],
      "metadata": {
        "colab": {
          "base_uri": "https://localhost:8080/"
        },
        "id": "JL_j7uKt85mW",
        "outputId": "fb6b25fb-2180-447d-b435-eb590889f256"
      },
      "execution_count": null,
      "outputs": [
        {
          "output_type": "stream",
          "name": "stdout",
          "text": [
            "<class 'str'>\n",
            "50.5 <class 'float'>\n"
          ]
        }
      ]
    },
    {
      "cell_type": "code",
      "source": [
        "nombre = \"Alexia\"\n",
        "edad = 35\n",
        "print(f\"Hola, mi nombre es {nombre} y tengo {edad} años.\")"
      ],
      "metadata": {
        "colab": {
          "base_uri": "https://localhost:8080/"
        },
        "id": "iY9huKloDJsu",
        "outputId": "4a7177c3-9d6a-4346-9852-cd44124a3429"
      },
      "execution_count": null,
      "outputs": [
        {
          "output_type": "stream",
          "name": "stdout",
          "text": [
            "Hola, mi nombre es Alexia y tengo 35 años.\n"
          ]
        }
      ]
    },
    {
      "cell_type": "code",
      "source": [
        "print(\"El valor de pi es {:.2f}\".format(3.1416))"
      ],
      "metadata": {
        "colab": {
          "base_uri": "https://localhost:8080/"
        },
        "id": "XPms9LnyDPQ4",
        "outputId": "fb70b494-9360-4253-b1ae-e177057476b9"
      },
      "execution_count": null,
      "outputs": [
        {
          "output_type": "stream",
          "name": "stdout",
          "text": [
            "El valor de pi es 3.14\n"
          ]
        }
      ]
    },
    {
      "cell_type": "code",
      "source": [
        "print(\"El valor de pi es {:.2f}\".format(3.1416))"
      ],
      "metadata": {
        "colab": {
          "base_uri": "https://localhost:8080/"
        },
        "id": "KOvOFfS5Dg__",
        "outputId": "aef57c6b-c8fa-4501-9fb5-b7a4feb838be"
      },
      "execution_count": null,
      "outputs": [
        {
          "output_type": "stream",
          "name": "stdout",
          "text": [
            "El valor de pi es 3.14\n"
          ]
        }
      ]
    },
    {
      "cell_type": "code",
      "source": [
        "precio = 49.99\n",
        "print(f\"{precio:>10}\")"
      ],
      "metadata": {
        "colab": {
          "base_uri": "https://localhost:8080/"
        },
        "id": "6AJ5b2DbDkgx",
        "outputId": "dba0fe8a-d035-48fa-87c6-92f92bd77b87"
      },
      "execution_count": null,
      "outputs": [
        {
          "output_type": "stream",
          "name": "stdout",
          "text": [
            "     49.99\n"
          ]
        }
      ]
    },
    {
      "cell_type": "code",
      "source": [
        "pi = 3.141592\n",
        "print(f\"pi = {pi:.4f}\")"
      ],
      "metadata": {
        "id": "UeZ8ksTQDq7R",
        "outputId": "3c654080-fa51-47c9-bece-1f8e4670b5a2",
        "colab": {
          "base_uri": "https://localhost:8080/"
        }
      },
      "execution_count": null,
      "outputs": [
        {
          "output_type": "stream",
          "name": "stdout",
          "text": [
            "pi = 3.1416\n"
          ]
        }
      ]
    }
  ]
}