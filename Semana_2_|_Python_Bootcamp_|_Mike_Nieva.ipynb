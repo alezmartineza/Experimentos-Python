{
  "nbformat": 4,
  "nbformat_minor": 0,
  "metadata": {
    "colab": {
      "provenance": [],
      "include_colab_link": true
    },
    "kernelspec": {
      "name": "python3",
      "display_name": "Python 3"
    },
    "language_info": {
      "name": "python"
    }
  },
  "cells": [
    {
      "cell_type": "markdown",
      "metadata": {
        "id": "view-in-github",
        "colab_type": "text"
      },
      "source": [
        "<a href=\"https://colab.research.google.com/github/alezmartineza/Experimentos-Python/blob/main/Semana_2_%7C_Python_Bootcamp_%7C_Mike_Nieva.ipynb\" target=\"_parent\"><img src=\"https://colab.research.google.com/assets/colab-badge.svg\" alt=\"Open In Colab\"/></a>"
      ]
    },
    {
      "cell_type": "markdown",
      "source": [
        "# EJERCICIOS DE CLASE\n",
        "\n",
        "## Semana 2\n",
        "\n",
        "Ejercicios de clase adicionales a la plataforma.\n",
        "\n",
        "\n",
        "### Operadores de comparación\n",
        "\n",
        "`expresion_izq OPERADOR expresion_der`\n",
        "\n"
      ],
      "metadata": {
        "id": "Qot4rprYhF_r"
      }
    },
    {
      "cell_type": "code",
      "execution_count": null,
      "metadata": {
        "colab": {
          "base_uri": "https://localhost:8080/"
        },
        "id": "qQkFrdayf6Rd",
        "outputId": "50983e83-4dd4-4bde-f125-7f20e2d9d9e6"
      },
      "outputs": [
        {
          "output_type": "stream",
          "name": "stdout",
          "text": [
            "Esta es la evaluación del presupuesto: True\n"
          ]
        },
        {
          "output_type": "execute_result",
          "data": {
            "text/plain": [
              "False"
            ]
          },
          "metadata": {},
          "execution_count": 7
        }
      ],
      "source": [
        "edad = 38\n",
        "edad >= 18\n",
        "\n",
        "precio = 20\n",
        "presupuesto = 100\n",
        "print(f\"Esta es la evaluación del presupuesto: {precio * 0.9 < presupuesto}\")\n",
        "\n",
        "nombre = \"ana\"\n",
        "\"Ana\" == nombre"
      ]
    },
    {
      "cell_type": "markdown",
      "source": [
        "AND, OR, NOT\n",
        "\n",
        "SINTAXIS\n",
        "condicion puede ser un booleano (TRUE o FALSE) o puede ser una evaluación de comparación.\n",
        "\n",
        "```\n",
        "condicion1 and condicion2\n",
        "condicion1 or condicion2\n",
        "not condicion\n",
        "```\n",
        "\n",
        "\n"
      ],
      "metadata": {
        "id": "k1eMOVFcmVoF"
      }
    },
    {
      "cell_type": "code",
      "source": [
        "# AND\n",
        "edad = 20\n",
        "tiene_identificacion = True\n",
        "tiene_pasaporte = True\n",
        "\n",
        "print(edad >= 18 and tiene_identificacion and tiene_pasaporte)\n",
        "\n",
        "\n",
        "# OR\n",
        "edad = 16\n",
        "permiso_padres = True\n",
        "\n",
        "print(edad >= 18 or permiso_padres) # True\n",
        "\n",
        "\n",
        "# NOT\n",
        "es_mayor = False\n",
        "print(not es_mayor) # True\n"
      ],
      "metadata": {
        "colab": {
          "base_uri": "https://localhost:8080/"
        },
        "id": "bzaLEYQRw_7b",
        "outputId": "62d77dea-cc26-4168-9a5d-74109c76942a"
      },
      "execution_count": null,
      "outputs": [
        {
          "output_type": "stream",
          "name": "stdout",
          "text": [
            "True\n",
            "True\n",
            "True\n"
          ]
        }
      ]
    },
    {
      "cell_type": "markdown",
      "source": [
        "# Condicionales\n",
        "\n",
        "```\n",
        "if condicion:\n",
        "  BLOQUE DE CÓDIGO\n",
        "```\n"
      ],
      "metadata": {
        "id": "9YPyuIiImr_m"
      }
    },
    {
      "cell_type": "code",
      "source": [
        "edad = 18\n",
        "if edad == 18: # El valor devuelve false\n",
        "  print(\"1. Eres mayor de edad\")\n",
        "\n",
        "if edad <= 18: # El valor devuelve false\n",
        "  print(\"2. Eres menor de edad\")\n",
        "\n",
        "if edad >= 18: # El valor devuelve true\n",
        "  print(\"3. Eres mayor de edad\")"
      ],
      "metadata": {
        "colab": {
          "base_uri": "https://localhost:8080/"
        },
        "id": "qSeqYR4LmBWT",
        "outputId": "5a4d38b6-f527-4648-8dda-3251602f5a56"
      },
      "execution_count": null,
      "outputs": [
        {
          "output_type": "stream",
          "name": "stdout",
          "text": [
            "1. Eres mayor de edad\n",
            "2. Eres menor de edad\n",
            "3. Eres mayor de edad\n"
          ]
        }
      ]
    },
    {
      "cell_type": "markdown",
      "source": [
        "Ejercicio\n",
        "\n",
        "edadPension = XXXXX\n",
        "\n",
        "Generar las condicionales de entrada a pensión que es 65 años.\n",
        "Si la persona cumple 65 años, recibe un mensaje de \"Puedes acceder a tu pensión\".\n",
        "\n"
      ],
      "metadata": {
        "id": "zY0lfH3Uojrc"
      }
    },
    {
      "cell_type": "code",
      "source": [
        "edadPension = 15\n",
        "if edadPension >= 65:\n",
        "  print(\"Puedes acceder a tu pensión\")\n",
        "elif edadPension == 64:\n",
        "  print(\"Todavía no puedes acceder a tu pensión, pero deberías empezar a revisar registros\")\n",
        "elif edadPension == 63:\n",
        "  print(\"Todavía no puedes acceder a tu pensión, en dos años puedes comenzar el registro.\")\n",
        "else:\n",
        "  print(\"Todavía no puedes acceder a tu pensión\")"
      ],
      "metadata": {
        "colab": {
          "base_uri": "https://localhost:8080/"
        },
        "id": "QXJKyoqLoysJ",
        "outputId": "990912b7-41dd-44fd-d2b4-e9df250006b0"
      },
      "execution_count": null,
      "outputs": [
        {
          "output_type": "stream",
          "name": "stdout",
          "text": [
            "Todavía no puedes acceder a tu pensión\n"
          ]
        }
      ]
    },
    {
      "cell_type": "markdown",
      "source": [
        "EJERCICIO 2\n",
        "\n",
        "¿Tienes 60 años o más, fuiste asegurado y tienes cumplidas al menos 500 o 1,000 semanas de cotización?\n",
        "\n",
        "Felicidades, te puedes pensionar. Si no, bienvenido a la chamba."
      ],
      "metadata": {
        "id": "sd6sOHhapbUq"
      }
    },
    {
      "cell_type": "markdown",
      "source": [],
      "metadata": {
        "id": "ByBCZOlb2tC9"
      }
    },
    {
      "cell_type": "code",
      "source": [
        "# 1. Establecer las variables\n",
        "edad = int(input(\"Ingresa tu edad: \"))\n",
        "asegurado = input(\"Fuiste asegurado? (s/n):\").lower() == \"s\" # El resultado quiero que sea un booleano\n",
        "semanas = int(input(\"Ingresa tus semanas cotizadas: \"))\n",
        "\n",
        "# 2. Evaluación de pensión\n",
        "if edad >= 60 and asegurado and semanas >= 500:\n",
        "  print(\"Cumples con los requisitos para pensión\")\n",
        "else:\n",
        "  print(\"No cumples con los requisitos\")"
      ],
      "metadata": {
        "colab": {
          "base_uri": "https://localhost:8080/"
        },
        "id": "72wIWbI-usl3",
        "outputId": "865f4223-fed2-474f-ad95-0bbbf18ddfe1"
      },
      "execution_count": null,
      "outputs": [
        {
          "output_type": "stream",
          "name": "stdout",
          "text": [
            "Ingresa tu edad: 70\n",
            "Fuiste asegurado? (s/n):s\n",
            "Ingresa tus semanas cotizadas: 800\n",
            "Cumples con los requisitos para pensión\n"
          ]
        }
      ]
    },
    {
      "cell_type": "code",
      "source": [
        "# Lando\n",
        "\n",
        "edad = int(input(\"Ingresa tu edad\"))\n",
        "esta_asegurado = input(\"Estás asegurado (s/n)\").lower() == \"s\"\n",
        "semanas_cotizacion = int(input(\"Ingresa tus semanas cotizadas\"))\n",
        "\n",
        "if edad >= 60:\n",
        "  if esta_asegurado:\n",
        "    if semanas_cotizacion >= 500:\n",
        "      print(\"Puedes pensionar\")\n",
        "    else:\n",
        "      print(f\"Te faltan cumplir {500 - semanas_cotizacion} semanas para pensionar\")\n",
        "  else:\n",
        "    print(\"Debes estar asegurado para pensionar\")\n",
        "else:\n",
        "  print(\"Debes tener al menos 60 años para pensionar\")"
      ],
      "metadata": {
        "id": "FEICptxT32-F"
      },
      "execution_count": null,
      "outputs": []
    },
    {
      "cell_type": "code",
      "source": [
        "# Nelson\n",
        "\n",
        "edad = int(input(\"Entre su Edad: \"))\n",
        "print(\"Su Edad es: \",edad)\n",
        "\n",
        "semanas = int(input(\"Entre la cantidad de semanas: \"))\n",
        "print(\"La cantidad de semanas es: \",semanas)\n",
        "\n",
        "fuisteasegurado = True\n",
        "print(\"Fuiste Segurado: \",fuisteasegurado)\n",
        "\n",
        "if edad >= 60 and fuisteasegurado and (semanas == 500 or semanas + 1000):\n",
        "  print(f\"te pensionaste de milagro\")\n",
        "else:\n",
        "  print(f\"sigue trabajando \")"
      ],
      "metadata": {
        "colab": {
          "base_uri": "https://localhost:8080/"
        },
        "id": "kuw9Ov9D4l-E",
        "outputId": "fc94602c-2ae5-43ca-aba9-8089a0c8b49d"
      },
      "execution_count": null,
      "outputs": [
        {
          "output_type": "stream",
          "name": "stdout",
          "text": [
            "Entre su Edad: 28\n",
            "Su Edad es:  28\n",
            "Entre la cantidad de semanas: 200\n",
            "La cantidad de semanas es:  200\n",
            "Fuiste Segurado:  True\n",
            "siguebtrabajando \n"
          ]
        }
      ]
    },
    {
      "cell_type": "code",
      "source": [
        "# Kevin\n",
        "\n",
        "edad = int(input(\"Ingrese su edad a evaluar: \"))\n",
        "\n",
        "if edad>=60:\n",
        "    seguro= input(\"¿fuiste asegurado?, ingrese si o no: \")\n",
        "    if seguro.lower()==\"si\":\n",
        "        semanasCotizacion=int(input(\"¿Cuantas fueron sus semanas de cotizacion? : \"))\n",
        "        if semanasCotizacion>=500:\n",
        "            print(\"Felicidades, te puedes pensionar\")\n",
        "        else:\n",
        "            print(\"No puedes acceder a la pension\")\n",
        "    else:\n",
        "        print(\"No puedes acceder a la pension\")\n",
        "else:\n",
        "  print(\"No puedes acceder a la pension\")"
      ],
      "metadata": {
        "colab": {
          "base_uri": "https://localhost:8080/"
        },
        "id": "EHPVAGAf5Xqa",
        "outputId": "88b2ead7-c946-4d65-d8d8-9f89ac850391"
      },
      "execution_count": null,
      "outputs": [
        {
          "output_type": "stream",
          "name": "stdout",
          "text": [
            "Ingrese su edad a evaluar: 38\n",
            "No puedes acceder a la pension\n"
          ]
        }
      ]
    },
    {
      "cell_type": "code",
      "source": [
        "# Aida\n",
        "\n",
        "edad = int(input(\"¿Qué edad tienes?\"))\n",
        "asegurado = input(\"¿Has sido asegurado? (s/n):\").lower() == 's'\n",
        "semanas = int(input(\"¿Cuántas semanas tienes cotizadas?\"))\n",
        "\n",
        "if edad >= 60 and asegurado and semanas >= 500:\n",
        "  print(\"Felicidades!, te puedes pensionar.\")\n",
        "else:\n",
        "  print(\"Bienvenido a la chamba\")"
      ],
      "metadata": {
        "colab": {
          "base_uri": "https://localhost:8080/"
        },
        "id": "R0JE87Ke5xQF",
        "outputId": "2066fefe-439a-4a13-a4cc-fa876935df19"
      },
      "execution_count": null,
      "outputs": [
        {
          "output_type": "stream",
          "name": "stdout",
          "text": [
            "¿Qué edad tienes?66\n",
            "¿Has sido asegurado? (s/n):s\n",
            "¿Cuántas semanas tienes cotizadas?600\n",
            "Bienvenido a la chamba\n"
          ]
        }
      ]
    },
    {
      "cell_type": "code",
      "source": [
        "# Adrian\n",
        "\n",
        "# 1. Establecer Variables\n",
        "edad = int(input(\"Ingresa tu edad: \"))\n",
        "asegurado = input(\"Fuiste Asegurado? (s/n): \").lower() == \"s\" # El resultado quiero que sea un booleano\n",
        "semanas = int(input(\"Ingresa tus semanas cotizadas: \"))\n",
        "\n",
        "# 2. Evaluacion de pension\n",
        "if (edad >= 60) and asegurado and (semanas >= 500):\n",
        "  print('Cumples con los requisitos para pension')\n",
        "elif edad < 60:\n",
        "  print(f'Te faltan {60-edad} años para pensionar.')\n",
        "elif not asegurado:\n",
        "  print('No estas asegurado')\n",
        "elif semanas<500:\n",
        "  print(f'Te faltan {500-semanas} semanas.')"
      ],
      "metadata": {
        "colab": {
          "base_uri": "https://localhost:8080/"
        },
        "id": "4dVbHXJN6MMq",
        "outputId": "bfce6a17-eb1d-435c-ce65-55acf3c997e2"
      },
      "execution_count": null,
      "outputs": [
        {
          "output_type": "stream",
          "name": "stdout",
          "text": [
            "Ingresa tu edad: 95\n",
            "Fuiste Asegurado? (s/n): s\n",
            "Ingresa tus semanas cotizadas: 600\n",
            "Cumples con los requisitos para pension\n"
          ]
        }
      ]
    }
  ]
}