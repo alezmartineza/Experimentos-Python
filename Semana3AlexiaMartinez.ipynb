{
  "nbformat": 4,
  "nbformat_minor": 0,
  "metadata": {
    "colab": {
      "provenance": [],
      "authorship_tag": "ABX9TyN8ifdakdOf3BgcoHpAPR0N",
      "include_colab_link": true
    },
    "kernelspec": {
      "name": "python3",
      "display_name": "Python 3"
    },
    "language_info": {
      "name": "python"
    }
  },
  "cells": [
    {
      "cell_type": "markdown",
      "metadata": {
        "id": "view-in-github",
        "colab_type": "text"
      },
      "source": [
        "<a href=\"https://colab.research.google.com/github/alezmartineza/Experimentos-Python/blob/main/Semana3AlexiaMartinez.ipynb\" target=\"_parent\"><img src=\"https://colab.research.google.com/assets/colab-badge.svg\" alt=\"Open In Colab\"/></a>"
      ]
    },
    {
      "cell_type": "code",
      "execution_count": null,
      "metadata": {
        "id": "3bR2SryzknD5"
      },
      "outputs": [],
      "source": [
        "# === LISTAS (list) ===\n",
        "frutas = [\"manzana\", \"pera\", \"plátano\"]\n",
        "numeros = [10, 20, 30, 40, 50]\n",
        "mixta = [\"hola\", 123, 4.5, True]\n",
        "\n",
        "# === DICCIONARIOS (dict) ===\n",
        "persona = {\"nombre\": \"Ana\", \"edad\": 25, \"ciudad\": \"Madrid\"}\n",
        "producto = {\"id\": 101, \"nombre\": \"Laptop\", \"precio\": 899.99}\n",
        "vacio = {}  # diccionario vacío\n",
        "\n",
        "# === CONJUNTOS (set) ===\n",
        "colores = {\"rojo\", \"verde\", \"azul\"}\n",
        "numeros_unicos = {1, 2, 3, 3, 2, 1}  # duplicados se eliminan\n",
        "lenguajes = {\"Python\", \"Java\", \"C++\"}\n",
        "\n",
        "# === TUPLAS (tuple) ===\n",
        "coordenadas = (10, 20)\n",
        "punto3D = (5, -3, 7)\n",
        "datos = (\"Mike\", 30, \"México\")"
      ]
    },
    {
      "cell_type": "code",
      "source": [
        "paises = [\"México\", \"España\", \"Argentina\", \"Chile\"]\n",
        "print(paises[0])   # México\n",
        "print(paises[-1])  # Chile"
      ],
      "metadata": {
        "id": "wJRpjlTFk5gU",
        "colab": {
          "base_uri": "https://localhost:8080/"
        },
        "outputId": "9b155526-fd89-4e5e-85a5-5937f4d5d183"
      },
      "execution_count": null,
      "outputs": [
        {
          "output_type": "stream",
          "name": "stdout",
          "text": [
            "México\n",
            "Chile\n"
          ]
        }
      ]
    },
    {
      "cell_type": "code",
      "source": [
        "numeros = [10, 20, 30, 40, 50]\n",
        "print(numeros[-1])  # 50\n",
        "print(numeros[-2])  # 40"
      ],
      "metadata": {
        "colab": {
          "base_uri": "https://localhost:8080/"
        },
        "id": "C7hWYh9Nn4Nr",
        "outputId": "dece826b-4ccb-4aeb-c6c0-392ba821fcbb"
      },
      "execution_count": null,
      "outputs": [
        {
          "output_type": "stream",
          "name": "stdout",
          "text": [
            "50\n",
            "40\n"
          ]
        }
      ]
    },
    {
      "cell_type": "code",
      "source": [
        "colores = [\"rojo\", \"verde\", \"azul\"]\n",
        "colores[1] = \"amarillo\"\n",
        "print(colores)  # ['rojo','amarillo','azul']"
      ],
      "metadata": {
        "colab": {
          "base_uri": "https://localhost:8080/"
        },
        "id": "TvQu5-wUn_Cr",
        "outputId": "3df7876a-4759-44d4-a756-b1a60894217f"
      },
      "execution_count": null,
      "outputs": [
        {
          "output_type": "stream",
          "name": "stdout",
          "text": [
            "['rojo', 'amarillo', 'azul']\n"
          ]
        }
      ]
    },
    {
      "cell_type": "code",
      "source": [
        "letras = [\"a\",\"b\",\"c\",\"d\",\"e\",\"f\"]\n",
        "print(letras[:3])   # ['a','b','c']\n",
        "print(letras[-3:])  # ['d','e','f']\n",
        "print(letras[2:4])  # ['c','d']"
      ],
      "metadata": {
        "colab": {
          "base_uri": "https://localhost:8080/"
        },
        "id": "HzuUXjrNoNkt",
        "outputId": "3b6836a2-b631-470b-b198-6938134e3af8"
      },
      "execution_count": null,
      "outputs": [
        {
          "output_type": "stream",
          "name": "stdout",
          "text": [
            "['a', 'b', 'c']\n",
            "['d', 'e', 'f']\n",
            "['c', 'd']\n"
          ]
        }
      ]
    },
    {
      "cell_type": "code",
      "source": [
        "nums = [0,1,2,3,4,5,6,7,8,9]\n",
        "print(nums[::2])   # pares -> [0,2,4,6,8]\n",
        "print(nums[1::2])  # impares -> [1,3,5,7,9]\n",
        "print(nums[::-1])  # reversa -> [9,8,7,6,5,4,3,2,1,0]"
      ],
      "metadata": {
        "colab": {
          "base_uri": "https://localhost:8080/"
        },
        "id": "tzfrdiRmoOqH",
        "outputId": "dd4ab647-944c-4ba2-d5a8-e1f788fdb6cf"
      },
      "execution_count": null,
      "outputs": [
        {
          "output_type": "stream",
          "name": "stdout",
          "text": [
            "[0, 2, 4, 6, 8]\n",
            "[1, 3, 5, 7, 9]\n",
            "[9, 8, 7, 6, 5, 4, 3, 2, 1, 0]\n"
          ]
        }
      ]
    },
    {
      "cell_type": "code",
      "source": [
        "animales = [\"perro\",\"gato\",\"pez\",\"gato\"]\n",
        "print(\"gato\" in animales)   # True\n",
        "print(len(animales))        # 4\n",
        "print(\"loro\" in animales) # True"
      ],
      "metadata": {
        "colab": {
          "base_uri": "https://localhost:8080/"
        },
        "id": "7iUvbknLokvm",
        "outputId": "dff7b4b0-bc4c-4217-c024-d7ef5573fed2"
      },
      "execution_count": null,
      "outputs": [
        {
          "output_type": "stream",
          "name": "stdout",
          "text": [
            "True\n",
            "4\n",
            "False\n"
          ]
        }
      ]
    },
    {
      "cell_type": "code",
      "source": [
        "nombres = [\"Ana\",\"Luis\",\"Marta\",\"Alexia\"]\n",
        "for nombre in nombres:\n",
        "    print(nombre)"
      ],
      "metadata": {
        "colab": {
          "base_uri": "https://localhost:8080/"
        },
        "id": "0wiJgbsFoqDT",
        "outputId": "a9b782c7-0fac-4e3f-d83d-4b0652b6ea91"
      },
      "execution_count": null,
      "outputs": [
        {
          "output_type": "stream",
          "name": "stdout",
          "text": [
            "Ana\n",
            "Luis\n",
            "Marta\n",
            "Alexia\n"
          ]
        }
      ]
    },
    {
      "cell_type": "code",
      "source": [
        "# Creamos una lista\n",
        "a = [1, 2, 3]\n",
        "\n",
        "# Asignamos b = a\n",
        "# Esto no crea una copia\n",
        "# 'b' y 'a' apuntan a la misma lista.\n",
        "b = a\n",
        "\n",
        "# Cambiamos el primer elemento de b\n",
        "b[0] = 100\n",
        "\n",
        "# Como 'a' y 'b' son el mismo objeto,\n",
        "# el cambio se refleja en ambos.\n",
        "print(a)  # [100, 2, 3]\n",
        "print(b)  # [100, 2, 3]"
      ],
      "metadata": {
        "colab": {
          "base_uri": "https://localhost:8080/"
        },
        "id": "2xllN5LLo3So",
        "outputId": "6adef6d2-1b2f-4b0b-cb03-068295c06d1f"
      },
      "execution_count": null,
      "outputs": [
        {
          "output_type": "stream",
          "name": "stdout",
          "text": [
            "[100, 2, 3]\n",
            "[100, 2, 3]\n"
          ]
        }
      ]
    },
    {
      "cell_type": "markdown",
      "source": [
        "¿Qué sucede?\n",
        "El código demuestra cómo funciona la asignación de variables con listas en Python, específicamente cuando se asigna una variable de lista a otra que no crea una nueva copia de la lista. Ambas variables se refieren al mismo objeto de lista en la memoria."
      ],
      "metadata": {
        "id": "tetgAKxRo4E6"
      }
    },
    {
      "cell_type": "code",
      "source": [
        "lista = [1,2,2,3,2,4]\n",
        "print(2 in lista)  # True\n",
        "\n",
        "conteo = 0\n",
        "for x in lista:\n",
        "    if x == 2:\n",
        "        conteo += 1\n",
        "print(conteo)  # 3\n",
        "\n",
        "otra = [2,1,2,3,2,4]\n",
        "print(lista == otra)  # False (el orden importa)"
      ],
      "metadata": {
        "colab": {
          "base_uri": "https://localhost:8080/"
        },
        "id": "zEbEp3ZVpmz0",
        "outputId": "f668e514-9c3d-4c9e-c5a3-c95991149ce9"
      },
      "execution_count": null,
      "outputs": [
        {
          "output_type": "stream",
          "name": "stdout",
          "text": [
            "True\n",
            "3\n",
            "False\n"
          ]
        }
      ]
    },
    {
      "cell_type": "code",
      "source": [
        "nombres = []\n",
        "nombres.append(\"Ana\")\n",
        "nombres.append(\"Luis\")\n",
        "nombres.insert(0, \"Marta\")\n",
        "nombres.insert(1, \"Alexia\")\n",
        "print(nombres)  # ['Marta','Ana','Luis']"
      ],
      "metadata": {
        "colab": {
          "base_uri": "https://localhost:8080/"
        },
        "id": "JVmKlXBQsiRK",
        "outputId": "4c9a0c29-775f-4b0d-eb61-e2ad82afc07f"
      },
      "execution_count": null,
      "outputs": [
        {
          "output_type": "stream",
          "name": "stdout",
          "text": [
            "['Marta', 'Alexia', 'Ana', 'Luis']\n"
          ]
        }
      ]
    },
    {
      "cell_type": "code",
      "source": [
        "nums = [1,2]\n",
        "nums.extend([3,4,5,6,7])\n",
        "print(nums)  # [1,2,3,4,5]"
      ],
      "metadata": {
        "colab": {
          "base_uri": "https://localhost:8080/"
        },
        "id": "otrbEpCwsn-U",
        "outputId": "136c08c0-cb2e-4c3d-bc42-2c238d0a6045"
      },
      "execution_count": null,
      "outputs": [
        {
          "output_type": "stream",
          "name": "stdout",
          "text": [
            "[1, 2, 3, 4, 5, 6, 7]\n"
          ]
        }
      ]
    },
    {
      "cell_type": "code",
      "source": [
        "colores = [\"rojo\",\"verde\",\"azul\",\"verde\"]\n",
        "colores.remove(\"verde\")\n",
        "print(colores)  # ['rojo','azul','verde']\n",
        "ultimo = colores.pop()\n",
        "print(ultimo)   # 'verde'\n",
        "print(colores)  # ['rojo','azul']"
      ],
      "metadata": {
        "colab": {
          "base_uri": "https://localhost:8080/"
        },
        "id": "W4hS5r27ssvR",
        "outputId": "382e0bd7-155b-459f-bea3-1c6369af01f0"
      },
      "execution_count": null,
      "outputs": [
        {
          "output_type": "stream",
          "name": "stdout",
          "text": [
            "['rojo', 'azul', 'verde']\n",
            "verde\n",
            "['rojo', 'azul']\n"
          ]
        }
      ]
    },
    {
      "cell_type": "code",
      "source": [
        "letras = [\"a\",\"b\",\"c\",\"b\",\"a\",\"b\"]\n",
        "print(letras.index(\"b\"))   # 1\n",
        "print(letras.count(\"b\"))   # 3"
      ],
      "metadata": {
        "colab": {
          "base_uri": "https://localhost:8080/"
        },
        "id": "uL4peWJ1uOp5",
        "outputId": "358012a0-da13-4010-85b5-0fe99ea3efc8"
      },
      "execution_count": null,
      "outputs": [
        {
          "output_type": "stream",
          "name": "stdout",
          "text": [
            "1\n",
            "3\n"
          ]
        }
      ]
    },
    {
      "cell_type": "code",
      "source": [
        "nums = [5,1,4,2,3]\n",
        "nums.sort()\n",
        "print(nums)                # [1,2,3,4,5]\n",
        "nums.sort(reverse=True)\n",
        "print(nums)                # [5,4,3,2,1]\n",
        "nums.reverse()\n",
        "print(nums)                # [1,2,3,4,5]"
      ],
      "metadata": {
        "colab": {
          "base_uri": "https://localhost:8080/"
        },
        "id": "D4Rvg9ZjuRhH",
        "outputId": "f886057b-5da2-4d65-96c2-d64a6db8283c"
      },
      "execution_count": null,
      "outputs": [
        {
          "output_type": "stream",
          "name": "stdout",
          "text": [
            "[1, 2, 3, 4, 5]\n",
            "[5, 4, 3, 2, 1]\n",
            "[1, 2, 3, 4, 5]\n"
          ]
        }
      ]
    },
    {
      "cell_type": "code",
      "source": [
        "nums = [10,20,30]\n",
        "nums.clear()\n",
        "print(nums)                # []"
      ],
      "metadata": {
        "colab": {
          "base_uri": "https://localhost:8080/"
        },
        "id": "pBtloRPIuouO",
        "outputId": "2495cfc6-a9f2-4d53-affc-c6fd7451dbfa"
      },
      "execution_count": null,
      "outputs": [
        {
          "output_type": "stream",
          "name": "stdout",
          "text": [
            "[]\n"
          ]
        }
      ]
    },
    {
      "cell_type": "code",
      "source": [
        "alumno = {\"nombre\": \"Alexia\", \"edad\": 35, \"carrera\": \"Economía\"}\n",
        "print(alumno[\"carrera\"])"
      ],
      "metadata": {
        "colab": {
          "base_uri": "https://localhost:8080/"
        },
        "id": "RR_aqnEOuq3D",
        "outputId": "d3599fa1-ef1b-4e03-adec-4d85b5c3b10b"
      },
      "execution_count": null,
      "outputs": [
        {
          "output_type": "stream",
          "name": "stdout",
          "text": [
            "Economía\n"
          ]
        }
      ]
    },
    {
      "cell_type": "code",
      "source": [
        "producto = {\"nombre\": \"Laptop\", \"precio\": 15000}\n",
        "producto[\"precio\"] = 14000\n",
        "producto[\"stock\"] = 20\n",
        "print(producto)"
      ],
      "metadata": {
        "colab": {
          "base_uri": "https://localhost:8080/"
        },
        "id": "xX7D5lbux2KU",
        "outputId": "5ee04582-4108-4602-8b61-7966b8e38f96"
      },
      "execution_count": null,
      "outputs": [
        {
          "output_type": "stream",
          "name": "stdout",
          "text": [
            "{'nombre': 'Laptop', 'precio': 14000, 'stock': 20}\n"
          ]
        }
      ]
    },
    {
      "cell_type": "code",
      "source": [
        "ciudad = {\"nombre\": \"Veracruz\", \"poblacion\": 600000, \"pais\": \"México\"}\n",
        "del ciudad[\"pais\"]\n",
        "print(ciudad)"
      ],
      "metadata": {
        "colab": {
          "base_uri": "https://localhost:8080/"
        },
        "id": "OIvAtNFxx7GX",
        "outputId": "55227b77-1a8f-4459-fddd-4c2bb501846f"
      },
      "execution_count": null,
      "outputs": [
        {
          "output_type": "stream",
          "name": "stdout",
          "text": [
            "{'nombre': 'Veracruz', 'poblacion': 600000}\n"
          ]
        }
      ]
    },
    {
      "cell_type": "code",
      "source": [
        "persona = {\"nombre\": \"Luis\", \"edad\": 30}\n",
        "if \"edad\" in persona:\n",
        "    print(\"Edad encontrada\")\n",
        "else:\n",
        "    print(\"No existe\")"
      ],
      "metadata": {
        "colab": {
          "base_uri": "https://localhost:8080/"
        },
        "id": "-S22WFtLx9ro",
        "outputId": "7daf7c9c-ab6b-434c-995e-9b8ad23e40f0"
      },
      "execution_count": null,
      "outputs": [
        {
          "output_type": "stream",
          "name": "stdout",
          "text": [
            "Edad encontrada\n"
          ]
        }
      ]
    },
    {
      "cell_type": "code",
      "source": [
        "contacto = {\"nombre\": \"Ana\", \"telefono\": \"1234\", \"email\": \"ana@mail.com\"}\n",
        "for clave in contacto:\n",
        "    print(clave, \"→\", contacto[clave])"
      ],
      "metadata": {
        "colab": {
          "base_uri": "https://localhost:8080/"
        },
        "id": "XpbFbYgmyB7A",
        "outputId": "2fc54c30-20c4-4e37-cdbe-d0c0d673a634"
      },
      "execution_count": null,
      "outputs": [
        {
          "output_type": "stream",
          "name": "stdout",
          "text": [
            "nombre → Ana\n",
            "telefono → 1234\n",
            "email → ana@mail.com\n"
          ]
        }
      ]
    },
    {
      "cell_type": "code",
      "source": [
        "a = {\"x\": 1}\n",
        "b = a\n",
        "b[\"x\"] = 99\n",
        "print(a)  # {'x': 99}\n",
        "print(b)  # {'x': 99}\n",
        "# Ambos cambiaron porque son alias del mismo objeto."
      ],
      "metadata": {
        "colab": {
          "base_uri": "https://localhost:8080/"
        },
        "id": "p2wlz_WF0kP2",
        "outputId": "61e04f2b-3c61-4b4d-db69-52457020dc76"
      },
      "execution_count": null,
      "outputs": [
        {
          "output_type": "stream",
          "name": "stdout",
          "text": [
            "{'x': 99}\n",
            "{'x': 99}\n"
          ]
        }
      ]
    },
    {
      "cell_type": "code",
      "source": [
        "a = {\"x\": 1}\n",
        "c = a.copy()\n",
        "c[\"x\"] = 100\n",
        "print(a)  # {'x': 1}\n",
        "print(c)  # {'x': 100}\n",
        "# Solo cambió c, porque es una copia independiente."
      ],
      "metadata": {
        "colab": {
          "base_uri": "https://localhost:8080/"
        },
        "id": "Pi-Z0zRu0vvp",
        "outputId": "d0728b97-2a4e-421f-a564-ae6b9d368416"
      },
      "execution_count": null,
      "outputs": [
        {
          "output_type": "stream",
          "name": "stdout",
          "text": [
            "{'x': 1}\n",
            "{'x': 100}\n"
          ]
        }
      ]
    },
    {
      "cell_type": "code",
      "source": [
        "datos = {\"nums\": [1, 2, 3]}\n",
        "copia = datos.copy()\n",
        "copia[\"nums\"].append(4)\n",
        "print(datos)  # {'nums': [1, 2, 3, 4]}\n",
        "print(copia)  # {'nums': [1, 2, 3, 4]}\n",
        "# Ambos cambian porque la lista interna es compartida."
      ],
      "metadata": {
        "id": "siP-CWQO04ak"
      },
      "execution_count": null,
      "outputs": []
    },
    {
      "cell_type": "code",
      "source": [
        "usuario = {\n",
        "    \"nombre\": \"Ana\",\n",
        "    \"edad\": 25,\n",
        "    \"contacto\": {\"email\": \"ana@mail.com\", \"telefono\": \"1234\"}\n",
        "}\n",
        "print(usuario[\"contacto\"][\"email\"])"
      ],
      "metadata": {
        "colab": {
          "base_uri": "https://localhost:8080/"
        },
        "id": "vr547t0y08KK",
        "outputId": "03c9bb3f-a298-40f2-bf3d-6a4b54eca11c"
      },
      "execution_count": null,
      "outputs": [
        {
          "output_type": "stream",
          "name": "stdout",
          "text": [
            "ana@mail.com\n"
          ]
        }
      ]
    },
    {
      "cell_type": "code",
      "source": [
        "agenda = {\n",
        "    \"Ana\": {\"telefono\": \"1234\", \"email\": \"ana@mail.com\"},\n",
        "    \"Luis\": {\"telefono\": \"5678\", \"email\": \"luis@mail.com\"},\n",
        "    \"Maria\": {\"telefono\": \"9012\", \"email\": \"maria@mail.com\"}\n",
        "}\n",
        "for nombre, info in agenda.items():\n",
        "    print(nombre, \"→\", info)"
      ],
      "metadata": {
        "colab": {
          "base_uri": "https://localhost:8080/"
        },
        "id": "WYcLQtH31B1R",
        "outputId": "9c607310-9430-4fbb-9464-d31cc85a692a"
      },
      "execution_count": null,
      "outputs": [
        {
          "output_type": "stream",
          "name": "stdout",
          "text": [
            "Ana → {'telefono': '1234', 'email': 'ana@mail.com'}\n",
            "Luis → {'telefono': '5678', 'email': 'luis@mail.com'}\n",
            "Maria → {'telefono': '9012', 'email': 'maria@mail.com'}\n"
          ]
        }
      ]
    },
    {
      "cell_type": "code",
      "source": [
        "usuario = {\"nombre\": \"Luis\", \"pais\": \"MX\"}\n",
        "print(usuario.get(\"edad\", 0))  # 0"
      ],
      "metadata": {
        "colab": {
          "base_uri": "https://localhost:8080/"
        },
        "id": "6WP330TW2W5G",
        "outputId": "24528eac-975d-4293-e554-f58dd2ccb279"
      },
      "execution_count": null,
      "outputs": [
        {
          "output_type": "stream",
          "name": "stdout",
          "text": [
            "0\n"
          ]
        }
      ]
    },
    {
      "cell_type": "code",
      "source": [
        "producto = {\"nombre\":\"Laptop\",\"precio\":15000,\"stock\":10}\n",
        "print(list(producto.keys()))     # ['nombre','precio','stock']\n",
        "print(list(producto.values()))   # ['Laptop',15000,10]\n",
        "for k, v in producto.items():\n",
        "    print(k, \"→\", v)"
      ],
      "metadata": {
        "colab": {
          "base_uri": "https://localhost:8080/"
        },
        "id": "_sMUC_ST2bNc",
        "outputId": "c1a210d0-a47f-474c-afa2-d8dacd12f824"
      },
      "execution_count": null,
      "outputs": [
        {
          "output_type": "stream",
          "name": "stdout",
          "text": [
            "['nombre', 'precio', 'stock']\n",
            "['Laptop', 15000, 10]\n",
            "nombre → Laptop\n",
            "precio → 15000\n",
            "stock → 10\n"
          ]
        }
      ]
    },
    {
      "cell_type": "code",
      "source": [
        "perfil = {\"usuario\":\"Alexia\",\"rol\":\"viewer\"}\n",
        "perfil.update({\"rol\":\"admin\",\"activo\":True})\n",
        "print(perfil)  # {'usuario':'mike','rol':'admin','activo':True}"
      ],
      "metadata": {
        "colab": {
          "base_uri": "https://localhost:8080/"
        },
        "id": "wgnhT88W2vCq",
        "outputId": "80a90727-0932-458a-9b24-c21a846754f7"
      },
      "execution_count": null,
      "outputs": [
        {
          "output_type": "stream",
          "name": "stdout",
          "text": [
            "{'usuario': 'Alexia', 'rol': 'admin', 'activo': True}\n"
          ]
        }
      ]
    },
    {
      "cell_type": "code",
      "source": [
        "cfg = {\"tema\":\"oscuro\",\"notificaciones\":True}\n",
        "v1 = cfg.pop(\"tema\")            # 'oscuro'\n",
        "v2 = cfg.pop(\"idioma\", \"es\")    # 'es'\n",
        "print(v1, v2)                   # oscuro es\n",
        "print(cfg)                      # {'notificaciones': True}"
      ],
      "metadata": {
        "colab": {
          "base_uri": "https://localhost:8080/"
        },
        "id": "208hoFOj2zkH",
        "outputId": "83c8d2e7-c884-4189-bfff-812621370c09"
      },
      "execution_count": null,
      "outputs": [
        {
          "output_type": "stream",
          "name": "stdout",
          "text": [
            "oscuro es\n",
            "{'notificaciones': True}\n"
          ]
        }
      ]
    },
    {
      "cell_type": "code",
      "source": [
        "d = {\"a\":1,\"b\":2,\"c\":3}\n",
        "p1 = d.popitem()   # ('c', 3)  ← último insertado\n",
        "p2 = d.popitem()   # ('b', 2)\n",
        "print(p1, p2)      # ('c', 3) ('b', 2)\n",
        "print(d)           # {'a': 1}"
      ],
      "metadata": {
        "colab": {
          "base_uri": "https://localhost:8080/"
        },
        "id": "uliWqZyN2_CG",
        "outputId": "332c5d49-b83d-41c8-9cff-6b3857d3520d"
      },
      "execution_count": null,
      "outputs": [
        {
          "output_type": "stream",
          "name": "stdout",
          "text": [
            "('c', 3) ('b', 2)\n",
            "{'a': 1}\n"
          ]
        }
      ]
    },
    {
      "cell_type": "code",
      "source": [
        "a = {\"x\":[1,2]}\n",
        "\n",
        "b = a               # aliasing (mismo objeto)\n",
        "b[\"x\"].append(3)\n",
        "\n",
        "c = a.copy()        # copia superficial (dict nuevo, pero lista compartida)\n",
        "c[\"x\"].append(4)\n",
        "\n",
        "print(a)  # {'x':[1,2,3,4]}\n",
        "print(b)  # {'x':[1,2,3,4]}   (mismo objeto que a)\n",
        "print(c)  # {'x':[1,2,3,4]}   (dict distinto, pero lista compartida)\n",
        "\n",
        "# Comentario:\n",
        "# - b = a → aliasing: apuntan al mismo dict.\n",
        "# - a.copy() → dict nuevo, pero los valores mutables (la lista) siguen compartidos.\n",
        "#   Por eso al append en c[\"x\"] también se ve en a."
      ],
      "metadata": {
        "colab": {
          "base_uri": "https://localhost:8080/"
        },
        "id": "JqjU6bFF3CHD",
        "outputId": "c47ee81f-1831-42ee-9708-3b9d0b6a9fb2"
      },
      "execution_count": null,
      "outputs": [
        {
          "output_type": "stream",
          "name": "stdout",
          "text": [
            "{'x': [1, 2, 3, 4]}\n",
            "{'x': [1, 2, 3, 4]}\n",
            "{'x': [1, 2, 3, 4]}\n"
          ]
        }
      ]
    },
    {
      "cell_type": "code",
      "source": [
        "campos = [\"nombre\",\"email\",\"telefono\"]\n",
        "ficha = dict.fromkeys(campos, None)\n",
        "ficha[\"nombre\"] = \"Ana\"\n",
        "ficha[\"email\"] = \"ana@mail.com\"\n",
        "ficha[\"telefono\"] = \"1234\"\n",
        "print(ficha)\n",
        "# {'nombre': 'Ana', 'email': 'ana@mail.com', 'telefono': '1234'}"
      ],
      "metadata": {
        "colab": {
          "base_uri": "https://localhost:8080/"
        },
        "id": "APa3UZss3cm1",
        "outputId": "376eab1a-d8e7-4db7-8613-f607b2b8892d"
      },
      "execution_count": null,
      "outputs": [
        {
          "output_type": "stream",
          "name": "stdout",
          "text": [
            "{'nombre': 'Ana', 'email': 'ana@mail.com', 'telefono': '1234'}\n"
          ]
        }
      ]
    },
    {
      "cell_type": "code",
      "source": [
        "config = {\"modo\":\"auto\"}\n",
        "config.update({\"modo\":\"manual\",\"reintentos\":3})\n",
        "timeout = config.get(\"timeout\", 30)      # 30\n",
        "reintentos = config.pop(\"reintentos\")    # 3\n",
        "print(\"timeout:\", timeout, \"| reintentos:\", reintentos)\n",
        "print(list(config.keys()), list(config.values()))\n",
        "# Claves/valores ejemplo: ['modo'] ['manual']"
      ],
      "metadata": {
        "colab": {
          "base_uri": "https://localhost:8080/"
        },
        "id": "gn6MAZoc3hzh",
        "outputId": "3b4a3d2a-632a-48af-e7da-9103e19329d9"
      },
      "execution_count": null,
      "outputs": [
        {
          "output_type": "stream",
          "name": "stdout",
          "text": [
            "timeout: 30 | reintentos: 3\n",
            "['modo'] ['manual']\n"
          ]
        }
      ]
    },
    {
      "cell_type": "code",
      "source": [
        "persona = {\"nombre\":\"Alexia\",\"edad\":35}\n",
        "print(\"Altura:\", persona.get(\"altura\", \"No registrada\"))\n",
        "for k, v in persona.items():\n",
        "    print(k, \"→\", v)"
      ],
      "metadata": {
        "colab": {
          "base_uri": "https://localhost:8080/"
        },
        "id": "K0euPVAu3mto",
        "outputId": "c968762d-489d-4ff3-c400-3dda83ffbc1d"
      },
      "execution_count": null,
      "outputs": [
        {
          "output_type": "stream",
          "name": "stdout",
          "text": [
            "Altura: No registrada\n",
            "nombre → Alexia\n",
            "edad → 35\n"
          ]
        }
      ]
    },
    {
      "cell_type": "code",
      "source": [
        "mis_datos = set()\n",
        "print(type(mis_datos))  # <class 'set'>"
      ],
      "metadata": {
        "colab": {
          "base_uri": "https://localhost:8080/"
        },
        "id": "gf4nEnreXMz5",
        "outputId": "91ee21ff-cbce-458d-e5df-63bdc0c3928c"
      },
      "execution_count": null,
      "outputs": [
        {
          "output_type": "stream",
          "name": "stdout",
          "text": [
            "<class 'set'>\n"
          ]
        }
      ]
    },
    {
      "cell_type": "code",
      "source": [
        "valores = {1, 1, 2, 3, 3, 4}\n",
        "print(valores)  # {1, 2, 3, 4}"
      ],
      "metadata": {
        "colab": {
          "base_uri": "https://localhost:8080/"
        },
        "id": "TwZCitJzXUSa",
        "outputId": "dff8b346-44fc-4ec0-e544-7bc553d54ae0"
      },
      "execution_count": null,
      "outputs": [
        {
          "output_type": "stream",
          "name": "stdout",
          "text": [
            "{1, 2, 3, 4}\n"
          ]
        }
      ]
    },
    {
      "cell_type": "code",
      "source": [
        "mixto = {\"Alexia\", 35, True}\n",
        "print(mixto)  # {'Mike', 30, True}"
      ],
      "metadata": {
        "colab": {
          "base_uri": "https://localhost:8080/"
        },
        "id": "EFlrz7XVYERu",
        "outputId": "8860d24a-3296-4484-bce5-7c0b888c1761"
      },
      "execution_count": null,
      "outputs": [
        {
          "output_type": "stream",
          "name": "stdout",
          "text": [
            "{'Alexia', 35, True}\n"
          ]
        }
      ]
    },
    {
      "cell_type": "code",
      "source": [
        "frutas = {\"manzana\", \"pera\", \"uva\"}\n",
        "print(\"pera\" in frutas)     # True\n",
        "print(\"naranja\" not in frutas) # True"
      ],
      "metadata": {
        "colab": {
          "base_uri": "https://localhost:8080/"
        },
        "id": "pd14OtuvYIJa",
        "outputId": "e973cfed-96fa-4bde-ce43-117942a914a1"
      },
      "execution_count": null,
      "outputs": [
        {
          "output_type": "stream",
          "name": "stdout",
          "text": [
            "True\n",
            "True\n"
          ]
        }
      ]
    },
    {
      "cell_type": "code",
      "source": [
        "letras = {\"a\", \"b\", \"c\", \"d\"}\n",
        "print(letras)\n",
        "print(letras)\n",
        "print(letras)\n",
        "# Orden puede cambiar en cada ejecución"
      ],
      "metadata": {
        "colab": {
          "base_uri": "https://localhost:8080/"
        },
        "id": "MTN5pAK9YPCG",
        "outputId": "c2aaa286-f4f9-4eff-8b1a-92b57d4d4fc6"
      },
      "execution_count": null,
      "outputs": [
        {
          "output_type": "stream",
          "name": "stdout",
          "text": [
            "{'d', 'a', 'c', 'b'}\n",
            "{'d', 'a', 'c', 'b'}\n",
            "{'d', 'a', 'c', 'b'}\n"
          ]
        }
      ]
    },
    {
      "cell_type": "code",
      "source": [
        "lista = [1,1,2,3,3,4,5,5]\n",
        "unicos = set(lista)\n",
        "print(unicos)  # {1,2,3,4,5}"
      ],
      "metadata": {
        "colab": {
          "base_uri": "https://localhost:8080/"
        },
        "id": "XFnekPAtYh_3",
        "outputId": "285a0618-d698-4c76-d956-ac9facaec291"
      },
      "execution_count": null,
      "outputs": [
        {
          "output_type": "stream",
          "name": "stdout",
          "text": [
            "{1, 2, 3, 4, 5}\n"
          ]
        }
      ]
    },
    {
      "cell_type": "code",
      "source": [
        "lista = {[1,1,25]3,6,5,8,9}\n",
        "# Esto dará error:\n",
        "# conjunto = {[1,2,3], 4, 5}\n",
        "# TypeError: unhashable type: 'list'"
      ],
      "metadata": {
        "colab": {
          "base_uri": "https://localhost:8080/",
          "height": 106
        },
        "id": "oT_lygPzYpkH",
        "outputId": "f8f79101-0b52-4527-c02d-7dd39124818b"
      },
      "execution_count": null,
      "outputs": [
        {
          "output_type": "error",
          "ename": "SyntaxError",
          "evalue": "invalid syntax. Perhaps you forgot a comma? (ipython-input-4039759116.py, line 1)",
          "traceback": [
            "\u001b[0;36m  File \u001b[0;32m\"/tmp/ipython-input-4039759116.py\"\u001b[0;36m, line \u001b[0;32m1\u001b[0m\n\u001b[0;31m    lista = {[1,1,25]3,6,5,8,9}\u001b[0m\n\u001b[0m             ^\u001b[0m\n\u001b[0;31mSyntaxError\u001b[0m\u001b[0;31m:\u001b[0m invalid syntax. Perhaps you forgot a comma?\n"
          ]
        }
      ]
    },
    {
      "cell_type": "code",
      "source": [
        "frutas = {\"manzana\", \"pera\"}\n",
        "frutas.add(\"uva\")\n",
        "print(frutas)"
      ],
      "metadata": {
        "colab": {
          "base_uri": "https://localhost:8080/"
        },
        "id": "ghYikcG3ZQn6",
        "outputId": "3e22c10b-1946-4bee-c25a-aad68996c08f"
      },
      "execution_count": null,
      "outputs": [
        {
          "output_type": "stream",
          "name": "stdout",
          "text": [
            "{'uva', 'manzana', 'pera'}\n"
          ]
        }
      ]
    },
    {
      "cell_type": "code",
      "source": [
        "colores = {\"rojo\", \"verde\", \"azul\"}\n",
        "colores.remove(\"verde\")     # elimina 'verde'\n",
        "colores.discard(\"negro\")    # no da error si no existe\n",
        "print(colores)\n",
        "\n",
        "# remove borró \"verde\".\n",
        "# discard intentó borrar \"negro\", pero como no estaba, no pasó nada."
      ],
      "metadata": {
        "colab": {
          "base_uri": "https://localhost:8080/"
        },
        "id": "pshPvdl0evlH",
        "outputId": "391f1eb7-dc2a-4b5b-97c4-1bb35a308a41"
      },
      "execution_count": null,
      "outputs": [
        {
          "output_type": "stream",
          "name": "stdout",
          "text": [
            "{'azul', 'rojo'}\n"
          ]
        }
      ]
    },
    {
      "cell_type": "code",
      "source": [
        "letras = {\"a\",\"b\",\"c\",\"d\"}\n",
        "quitado = letras.pop()\n",
        "print(\"Quitado:\", quitado)\n",
        "print(\"Queda:\", letras)\n",
        "\n",
        "# Quitado: a            # (puede ser cualquiera: 'a','b','c','d')\n",
        "# Queda: {'b','c','d'}  # o el resto según cuál se quitó"
      ],
      "metadata": {
        "colab": {
          "base_uri": "https://localhost:8080/"
        },
        "id": "G-mXrzUSfbBN",
        "outputId": "074d60f7-62aa-41c4-eedc-7ed6bf4f6bc9"
      },
      "execution_count": null,
      "outputs": [
        {
          "output_type": "stream",
          "name": "stdout",
          "text": [
            "Quitado: d\n",
            "Queda: {'a', 'c', 'b'}\n"
          ]
        }
      ]
    },
    {
      "cell_type": "code",
      "source": [
        "nums = {1,2,3}\n",
        "nums.clear()\n",
        "print(nums)\n",
        "\n",
        "# El set quedó vacío"
      ],
      "metadata": {
        "colab": {
          "base_uri": "https://localhost:8080/"
        },
        "id": "dNjgFKBMf3KH",
        "outputId": "955a82b0-9b96-4fb4-ad2e-f4c8cccc03bc"
      },
      "execution_count": null,
      "outputs": [
        {
          "output_type": "stream",
          "name": "stdout",
          "text": [
            "set()\n"
          ]
        }
      ]
    },
    {
      "cell_type": "code",
      "source": [
        "a = {1,2,3}\n",
        "b = {3,4,5}\n",
        "a.update(b)\n",
        "print(a)\n",
        "\n",
        "# {1,2,3,4,5}"
      ],
      "metadata": {
        "colab": {
          "base_uri": "https://localhost:8080/"
        },
        "id": "BXj6CRxEgD6i",
        "outputId": "66fc4f05-159f-46e3-eadb-f2a5337bddfe"
      },
      "execution_count": null,
      "outputs": [
        {
          "output_type": "stream",
          "name": "stdout",
          "text": [
            "{1, 2, 3, 4, 5}\n"
          ]
        }
      ]
    },
    {
      "cell_type": "code",
      "source": [
        "a = {1,2,3,4}\n",
        "b = {3,4,5}\n",
        "a.intersection_update(b)\n",
        "print(a)\n",
        "\n",
        "# {3,4}"
      ],
      "metadata": {
        "colab": {
          "base_uri": "https://localhost:8080/"
        },
        "id": "h7C_qtt9gGgl",
        "outputId": "beb9039b-2cce-40d4-c614-f7f9c709108e"
      },
      "execution_count": null,
      "outputs": [
        {
          "output_type": "stream",
          "name": "stdout",
          "text": [
            "{3, 4}\n"
          ]
        }
      ]
    },
    {
      "cell_type": "code",
      "source": [
        "a = {1,2,3,4}\n",
        "a.difference_update({2,5})\n",
        "print(a)\n",
        "\n",
        "# {1,3,4}\n",
        "# Se eliminó el 2 porque sí estaba en a.\n",
        "# El 5 no estaba, así que no hubo cambios en esa parte."
      ],
      "metadata": {
        "colab": {
          "base_uri": "https://localhost:8080/"
        },
        "id": "znCZQ2iKgQU7",
        "outputId": "336f4c60-bf3f-4d76-d621-d7b7887aaead"
      },
      "execution_count": null,
      "outputs": [
        {
          "output_type": "stream",
          "name": "stdout",
          "text": [
            "{1, 3, 4}\n"
          ]
        }
      ]
    },
    {
      "cell_type": "code",
      "source": [
        "a = {1,2,3}\n",
        "b = {3,4}\n",
        "a.symmetric_difference_update(b)\n",
        "print(a)\n",
        "\n",
        "# {1,2,4}\n",
        "# Se quitó el 3 porque estaba en ambos y se unieron el resto"
      ],
      "metadata": {
        "colab": {
          "base_uri": "https://localhost:8080/"
        },
        "id": "FjzzWf14gkKQ",
        "outputId": "d3e31e26-d4d2-43eb-8d23-2c3d91b94f28"
      },
      "execution_count": null,
      "outputs": [
        {
          "output_type": "stream",
          "name": "stdout",
          "text": [
            "{1, 2, 4}\n"
          ]
        }
      ]
    },
    {
      "cell_type": "code",
      "source": [
        "x = {1,2}\n",
        "y = {2,3,4}\n",
        "u = x.union(y)\n",
        "print(u)\n",
        "print(x | y)\n",
        "\n",
        "# {1,2,3,4}\n",
        "# {1,2,3,4}\n",
        "# La unión incluye todos los elementos de ambos sets."
      ],
      "metadata": {
        "colab": {
          "base_uri": "https://localhost:8080/"
        },
        "id": "nOPH9ud6gqnb",
        "outputId": "3749adf3-f35f-40e3-f507-4207f4d1ce32"
      },
      "execution_count": null,
      "outputs": [
        {
          "output_type": "stream",
          "name": "stdout",
          "text": [
            "{1, 2, 3, 4}\n",
            "{1, 2, 3, 4}\n"
          ]
        }
      ]
    },
    {
      "cell_type": "code",
      "source": [
        "x = {1,2}\n",
        "y = {2,3,4}\n",
        "i = x.intersection(y)\n",
        "print(i)\n",
        "print(x & y)\n",
        "\n",
        "\n",
        "# {2}\n",
        "# {2}\n",
        "# La intersección devuelve solo el valor que comparten (2)."
      ],
      "metadata": {
        "colab": {
          "base_uri": "https://localhost:8080/"
        },
        "id": "qQA-Q2WtiA9a",
        "outputId": "5aca203c-68df-4bd1-9076-8ee128dfe113"
      },
      "execution_count": null,
      "outputs": [
        {
          "output_type": "stream",
          "name": "stdout",
          "text": [
            "{2}\n",
            "{2}\n"
          ]
        }
      ]
    },
    {
      "cell_type": "code",
      "source": [
        "x = {1,2}\n",
        "y = {2,3,4}\n",
        "d1 = x - y\n",
        "d2 = y - x\n",
        "print(d1)\n",
        "print(d2)\n",
        "\n",
        "# {1}\n",
        "# {3,4}\n",
        "\n",
        "# x - y → lo que está en x pero no en y.\n",
        "# y - x → lo que está en y pero no en x."
      ],
      "metadata": {
        "colab": {
          "base_uri": "https://localhost:8080/"
        },
        "id": "zRW590gDiICr",
        "outputId": "dd8bed2c-82ef-47b2-cfb9-a9455f3eeb11"
      },
      "execution_count": null,
      "outputs": [
        {
          "output_type": "stream",
          "name": "stdout",
          "text": [
            "{1}\n",
            "{3, 4}\n"
          ]
        }
      ]
    },
    {
      "cell_type": "code",
      "source": [
        "x = {1,2}\n",
        "y = {2,3,4}\n",
        "sd = x.symmetric_difference(y)\n",
        "print(sd)\n",
        "print(x ^ y)\n",
        "\n",
        "# {1,3,4}\n",
        "# {1,3,4}\n",
        "# La diferencia simétrica se queda con los que no están en ambos."
      ],
      "metadata": {
        "colab": {
          "base_uri": "https://localhost:8080/"
        },
        "id": "Xyyye_mJiLu1",
        "outputId": "3584b2d9-39f4-4e33-8fc0-057318a718e6"
      },
      "execution_count": null,
      "outputs": [
        {
          "output_type": "stream",
          "name": "stdout",
          "text": [
            "{1, 3, 4}\n",
            "{1, 3, 4}\n"
          ]
        }
      ]
    },
    {
      "cell_type": "code",
      "source": [
        "a = {1,2}\n",
        "b = {1,2,3,4}\n",
        "print(a.issubset(b))\n",
        "print(b.issuperset(a))\n",
        "\n",
        "# True\n",
        "# True\n",
        "\n",
        "# a es subconjunto de b (todos sus elementos están en b).\n",
        "# b es superconjunto de a (contiene a a)."
      ],
      "metadata": {
        "colab": {
          "base_uri": "https://localhost:8080/"
        },
        "id": "2iwK-TJYihaL",
        "outputId": "ff4642e4-aff8-402d-df5b-c73400ecce98"
      },
      "execution_count": null,
      "outputs": [
        {
          "output_type": "stream",
          "name": "stdout",
          "text": [
            "True\n",
            "True\n"
          ]
        }
      ]
    },
    {
      "cell_type": "code",
      "source": [
        "m = {\"py\",\"js\"}\n",
        "n = {\"html\",\"css\"}\n",
        "print(m.isdisjoint(n))\n",
        "\n",
        "p = {\"js\",\"go\"}\n",
        "print(m.isdisjoint(p))\n",
        "\n",
        "# True\n",
        "# False\n",
        "\n",
        "# m y n no comparten nada → disjuntos.\n",
        "# m y p sí comparten \"js\" → no son disjuntos."
      ],
      "metadata": {
        "colab": {
          "base_uri": "https://localhost:8080/"
        },
        "id": "Cq2zJN7rjlzU",
        "outputId": "ab2cdeea-bef7-400b-da09-569b74672162"
      },
      "execution_count": null,
      "outputs": [
        {
          "output_type": "stream",
          "name": "stdout",
          "text": [
            "True\n",
            "False\n"
          ]
        }
      ]
    },
    {
      "cell_type": "code",
      "source": [
        "colores = (\"rojo\", \"verde\", \"azul\")\n",
        "print(colores[0])     # 'rojo'\n",
        "print(colores[-1])    # 'azul'"
      ],
      "metadata": {
        "id": "lOeDOuaVnE1x"
      },
      "execution_count": null,
      "outputs": []
    },
    {
      "cell_type": "code",
      "source": [
        "nums = (1,2,3,4,5,6,7,8)\n",
        "print(nums[1:6])      # (2, 3, 4)"
      ],
      "metadata": {
        "colab": {
          "base_uri": "https://localhost:8080/"
        },
        "id": "Wlax5DoonGjl",
        "outputId": "217dd810-557e-490a-b74d-479ad1b88123"
      },
      "execution_count": null,
      "outputs": [
        {
          "output_type": "stream",
          "name": "stdout",
          "text": [
            "(2, 3, 4, 5, 6)\n"
          ]
        }
      ]
    },
    {
      "cell_type": "code",
      "source": [
        "t = (7,)\n",
        "print(type(t))        # <class 'tuple'>"
      ],
      "metadata": {
        "colab": {
          "base_uri": "https://localhost:8080/"
        },
        "id": "lTcLBW4RnNw6",
        "outputId": "53347cdb-1926-41f7-be0e-d965c863ba01"
      },
      "execution_count": null,
      "outputs": [
        {
          "output_type": "stream",
          "name": "stdout",
          "text": [
            "<class 'tuple'>\n"
          ]
        }
      ]
    },
    {
      "cell_type": "code",
      "source": [
        "a = (10,20)\n",
        "b = (30,40)\n",
        "c = a + b\n",
        "print(c * 2)          # (10,20,30,40,10,20,30,40)"
      ],
      "metadata": {
        "colab": {
          "base_uri": "https://localhost:8080/"
        },
        "id": "joFQYXWsnRPl",
        "outputId": "efa23731-165c-4dd8-acbc-066a97e2ca72"
      },
      "execution_count": null,
      "outputs": [
        {
          "output_type": "stream",
          "name": "stdout",
          "text": [
            "(10, 20, 30, 40, 10, 20, 30, 40)\n"
          ]
        }
      ]
    },
    {
      "cell_type": "code",
      "source": [
        "t = (5,10,15,20,25)\n",
        "print(t[::-1])        # (25,20,15,10,5)"
      ],
      "metadata": {
        "colab": {
          "base_uri": "https://localhost:8080/"
        },
        "id": "hVxw7FaJpNcr",
        "outputId": "d07ac6b7-65ac-4cd0-a30c-a7c4c25a1d4a"
      },
      "execution_count": null,
      "outputs": [
        {
          "output_type": "stream",
          "name": "stdout",
          "text": [
            "(25, 20, 15, 10, 5)\n"
          ]
        }
      ]
    },
    {
      "cell_type": "code",
      "source": [
        "fecha = (2025,8,28)\n",
        "anio, mes, dia = fecha\n",
        "print(f\"Año: {anio}, Mes: {mes}, Día: {dia}\")"
      ],
      "metadata": {
        "colab": {
          "base_uri": "https://localhost:8080/"
        },
        "id": "y21GSKQgpUv4",
        "outputId": "bb1f953f-1940-4c76-9be6-41dcc18680bb"
      },
      "execution_count": null,
      "outputs": [
        {
          "output_type": "stream",
          "name": "stdout",
          "text": [
            "Año: 2025, Mes: 8, Día: 28\n"
          ]
        }
      ]
    },
    {
      "cell_type": "code",
      "source": [
        "t = (\"Ana\", (10,20,30), \"Fin\")\n",
        "print(t[1][1])        # 20"
      ],
      "metadata": {
        "colab": {
          "base_uri": "https://localhost:8080/"
        },
        "id": "KCHxK7WTqUA5",
        "outputId": "1ec0f4b3-9133-4382-859a-283cd8a7f666"
      },
      "execution_count": null,
      "outputs": [
        {
          "output_type": "stream",
          "name": "stdout",
          "text": [
            "20\n"
          ]
        }
      ]
    },
    {
      "cell_type": "code",
      "source": [
        "t = (1, [2,3], 4)\n",
        "t[1].append(99)\n",
        "print(t)              # (1, [2,3,99], 4)"
      ],
      "metadata": {
        "colab": {
          "base_uri": "https://localhost:8080/"
        },
        "id": "JmCrONRaqxHB",
        "outputId": "d7c5917d-b52c-4eeb-fca6-fd9d8e9d7af9"
      },
      "execution_count": null,
      "outputs": [
        {
          "output_type": "stream",
          "name": "stdout",
          "text": [
            "(1, [2, 3, 99], 4)\n"
          ]
        }
      ]
    },
    {
      "cell_type": "code",
      "source": [
        "coordenada = (19.43, -99.13)\n",
        "lugares = {coordenada: \"CDMX\"}\n",
        "print(lugares)        # {(19.43, -99.13): 'CDMX'}"
      ],
      "metadata": {
        "colab": {
          "base_uri": "https://localhost:8080/"
        },
        "id": "9kq2OOHtu9g7",
        "outputId": "3fc3dc50-61e2-432c-db6b-7b991bbd37a5"
      },
      "execution_count": null,
      "outputs": [
        {
          "output_type": "stream",
          "name": "stdout",
          "text": [
            "{(19.43, -99.13): 'CDMX'}\n"
          ]
        }
      ]
    },
    {
      "cell_type": "code",
      "source": [
        "animales = [\"perro\", \"gato\", \"loro\", \"pez\", \"conejo\"]\n",
        "print(len(animales))\n",
        "# Resultado: 5"
      ],
      "metadata": {
        "colab": {
          "base_uri": "https://localhost:8080/"
        },
        "id": "dlm_Qg6ubJqK",
        "outputId": "da94766d-da55-42e4-ebe6-9fc46b937b52"
      },
      "execution_count": 1,
      "outputs": [
        {
          "output_type": "stream",
          "name": "stdout",
          "text": [
            "5\n"
          ]
        }
      ]
    },
    {
      "cell_type": "code",
      "source": [
        "numeros = list(range(1, 11))\n",
        "print(sum(numeros))\n",
        "# Resultado: 55"
      ],
      "metadata": {
        "colab": {
          "base_uri": "https://localhost:8080/"
        },
        "id": "Rt2ATiKImwns",
        "outputId": "815fc193-3732-4007-b8d1-007c5ce3b2ee"
      },
      "execution_count": 2,
      "outputs": [
        {
          "output_type": "stream",
          "name": "stdout",
          "text": [
            "55\n"
          ]
        }
      ]
    },
    {
      "cell_type": "code",
      "source": [
        "t = (5, 17, 3, 9, 21)\n",
        "print(min(t))  # 3\n",
        "print(max(t))  # 21"
      ],
      "metadata": {
        "colab": {
          "base_uri": "https://localhost:8080/"
        },
        "id": "POC_C9Kpm0Yq",
        "outputId": "849aa44f-5b5d-4516-fbd6-fa33fb6bea98"
      },
      "execution_count": 3,
      "outputs": [
        {
          "output_type": "stream",
          "name": "stdout",
          "text": [
            "3\n",
            "21\n"
          ]
        }
      ]
    },
    {
      "cell_type": "code",
      "source": [
        "puntos = [40, 10, 70, 20]\n",
        "print(sorted(puntos))                 # [10, 20, 40, 70]\n",
        "print(sorted(puntos, reverse=True))   # [70, 40, 20, 10]"
      ],
      "metadata": {
        "colab": {
          "base_uri": "https://localhost:8080/"
        },
        "id": "66pmvgG5m9GG",
        "outputId": "245eff11-51e5-4bac-907a-79ef3bc38fa7"
      },
      "execution_count": 4,
      "outputs": [
        {
          "output_type": "stream",
          "name": "stdout",
          "text": [
            "[10, 20, 40, 70]\n",
            "[70, 40, 20, 10]\n"
          ]
        }
      ]
    },
    {
      "cell_type": "code",
      "source": [
        "texto = \"python\"\n",
        "print(list(reversed(texto)))\n",
        "# ['n', 'o', 'h', 't', 'y', 'p']"
      ],
      "metadata": {
        "colab": {
          "base_uri": "https://localhost:8080/"
        },
        "id": "KR8wl-azm_q0",
        "outputId": "44c58bf0-fde2-4798-8b6f-eb1a49f2eda9"
      },
      "execution_count": 5,
      "outputs": [
        {
          "output_type": "stream",
          "name": "stdout",
          "text": [
            "['n', 'o', 'h', 't', 'y', 'p']\n"
          ]
        }
      ]
    },
    {
      "cell_type": "code",
      "source": [
        "valores = {0, \"\", None, 15}\n",
        "print(any(valores))\n",
        "# True porque 15 es considerado verdadero."
      ],
      "metadata": {
        "colab": {
          "base_uri": "https://localhost:8080/"
        },
        "id": "4bTvm6IGnGaQ",
        "outputId": "d2608643-4c1c-430a-af9c-99732a2f1f6d"
      },
      "execution_count": 6,
      "outputs": [
        {
          "output_type": "stream",
          "name": "stdout",
          "text": [
            "True\n"
          ]
        }
      ]
    },
    {
      "cell_type": "code",
      "source": [
        "checks = {\"a\": 1, \"b\": True, \"c\": \"ok\"}\n",
        "print(all(checks.values()))\n",
        "# True porque 1, True y \"ok\" son todos valores verdaderos."
      ],
      "metadata": {
        "colab": {
          "base_uri": "https://localhost:8080/"
        },
        "id": "l59NMj6mnLVl",
        "outputId": "ce719d2f-a258-42c4-fb96-c43f024d810f"
      },
      "execution_count": 7,
      "outputs": [
        {
          "output_type": "stream",
          "name": "stdout",
          "text": [
            "True\n"
          ]
        }
      ]
    }
  ]
}