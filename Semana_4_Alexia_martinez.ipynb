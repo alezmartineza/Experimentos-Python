{
  "cells": [
    {
      "cell_type": "markdown",
      "metadata": {
        "id": "view-in-github",
        "colab_type": "text"
      },
      "source": [
        "<a href=\"https://colab.research.google.com/github/alezmartineza/Experimentos-Python/blob/main/Semana_4_Alexia_martinez.ipynb\" target=\"_parent\"><img src=\"https://colab.research.google.com/assets/colab-badge.svg\" alt=\"Open In Colab\"/></a>"
      ]
    },
    {
      "cell_type": "code",
      "source": [
        "precios = [120, 50, 200, 30, 400]\n",
        "altos = [p for p in precios if p >= 100]\n",
        "print(altos)\n",
        "# [120, 200, 400]"
      ],
      "metadata": {
        "colab": {
          "base_uri": "https://localhost:8080/"
        },
        "id": "Vlrv2NRdoNHe",
        "outputId": "837fbee7-2b87-46a9-bde4-799942bb3638"
      },
      "execution_count": null,
      "outputs": [
        {
          "output_type": "stream",
          "name": "stdout",
          "text": [
            "[120, 200, 400]\n"
          ]
        }
      ]
    },
    {
      "cell_type": "code",
      "source": [
        "notas = {\"Ana\": 8, \"Luis\": 5, \"Marta\": 9, \"Pedro\": 6}"
      ],
      "metadata": {
        "id": "VsLMtSEToQ1U"
      },
      "execution_count": null,
      "outputs": []
    },
    {
      "cell_type": "code",
      "source": [
        "aprobados = {nombre: nota for nombre, nota in notas.items() if nota >= 6}\n",
        "print(aprobados)\n",
        "# {'Ana': 8, 'Marta': 9, 'Pedro': 6}"
      ],
      "metadata": {
        "colab": {
          "base_uri": "https://localhost:8080/"
        },
        "id": "deQkzy8UoTQ2",
        "outputId": "2d3c2d47-a626-4c58-85f8-7f68d9191441"
      },
      "execution_count": null,
      "outputs": [
        {
          "output_type": "stream",
          "name": "stdout",
          "text": [
            "{'Ana': 8, 'Marta': 9, 'Pedro': 6}\n"
          ]
        }
      ]
    },
    {
      "cell_type": "code",
      "source": [
        "frase = \"python es divertido y python es poderoso\"\n",
        "frase = \"python es divertido y python es poderoso\"\n",
        "palabras = {p for p in frase.split()}\n",
        "print(palabras)\n",
        "# {'es', 'poderoso', 'divertido', 'y', 'python'}"
      ],
      "metadata": {
        "colab": {
          "base_uri": "https://localhost:8080/"
        },
        "id": "FYNIIDs_oWx7",
        "outputId": "b68c0391-c725-4269-e71e-9dc12560e0cf"
      },
      "execution_count": null,
      "outputs": [
        {
          "output_type": "stream",
          "name": "stdout",
          "text": [
            "{'python', 'poderoso', 'es', 'divertido', 'y'}\n"
          ]
        }
      ]
    },
    {
      "cell_type": "code",
      "source": [
        "productos = [(\"Pan\", 20), (\"Leche\", 15), (\"Carne\", 80), (\"Jugo\", 10)]"
      ],
      "metadata": {
        "id": "iC7bfXNgog2X"
      },
      "execution_count": null,
      "outputs": []
    },
    {
      "cell_type": "code",
      "source": [
        "productos = [(\"Pan\", 20), (\"Leche\", 15), (\"Carne\", 80), (\"Jugo\", 10)]\n",
        "clasificacion = {nombre: (\"caro\" if precio > 30 else \"barato\") for nombre, precio in productos}\n",
        "print(clasificacion)\n",
        "# {'Pan': 'barato', 'Leche': 'barato', 'Carne': 'caro', 'Jugo': 'barato'}"
      ],
      "metadata": {
        "colab": {
          "base_uri": "https://localhost:8080/"
        },
        "id": "QKEXm_Gvoj_w",
        "outputId": "b002525c-894d-4e25-a3f1-cb52d0abaadd"
      },
      "execution_count": null,
      "outputs": [
        {
          "output_type": "stream",
          "name": "stdout",
          "text": [
            "{'Pan': 'barato', 'Leche': 'barato', 'Carne': 'caro', 'Jugo': 'barato'}\n"
          ]
        }
      ]
    },
    {
      "cell_type": "code",
      "source": [
        "usuarios = {f\"user{i}\": 1000 + i for i in range(1, 6)}\n",
        "print(usuarios)\n",
        "# {'user1': 1001, 'user2': 1002, 'user3': 1003, 'user4': 1004, 'user5': 1005}"
      ],
      "metadata": {
        "colab": {
          "base_uri": "https://localhost:8080/"
        },
        "id": "yQofjrczol2A",
        "outputId": "05fa19d4-ad0e-4095-e9de-3c63c90f82e7"
      },
      "execution_count": null,
      "outputs": [
        {
          "output_type": "stream",
          "name": "stdout",
          "text": [
            "{'user1': 1001, 'user2': 1002, 'user3': 1003, 'user4': 1004, 'user5': 1005}\n"
          ]
        }
      ]
    },
    {
      "cell_type": "code",
      "source": [
        "nombres = [\"Ana\", \"Luis\", \"Marta\"]\n",
        "vocales = {letra.lower() for nombre in nombres for letra in nombre if letra.lower() in \"aeiou\"}\n",
        "print(vocales)\n",
        "# {'a', 'i', 'u'}"
      ],
      "metadata": {
        "colab": {
          "base_uri": "https://localhost:8080/"
        },
        "id": "RIqu4QZSoqqh",
        "outputId": "4df6cdc4-2dd5-4cdf-f07c-2a9fbc0cc2b8"
      },
      "execution_count": null,
      "outputs": [
        {
          "output_type": "stream",
          "name": "stdout",
          "text": [
            "{'i', 'u', 'a'}\n"
          ]
        }
      ]
    },
    {
      "cell_type": "code",
      "source": [
        "def bienvenida():\n",
        "    print(\"¡Hola, estudiante!\")\n",
        "\n",
        "bienvenida()"
      ],
      "metadata": {
        "colab": {
          "base_uri": "https://localhost:8080/"
        },
        "id": "6owhkwxppSVA",
        "outputId": "44e6492c-5375-4afe-97c0-8ab2dd47869c"
      },
      "execution_count": null,
      "outputs": [
        {
          "output_type": "stream",
          "name": "stdout",
          "text": [
            "¡Hola, estudiante!\n"
          ]
        }
      ]
    },
    {
      "cell_type": "code",
      "source": [
        "def presentacion(nombre):\n",
        "    print(f\"Hola {nombre}, bienvenido al curso.\")\n",
        "\n",
        "presentacion(\"Alexia\")"
      ],
      "metadata": {
        "colab": {
          "base_uri": "https://localhost:8080/"
        },
        "id": "SadZLqv5qIfs",
        "outputId": "2058941a-f163-45fa-83be-edb3756f0792"
      },
      "execution_count": null,
      "outputs": [
        {
          "output_type": "stream",
          "name": "stdout",
          "text": [
            "Hola Alexia, bienvenido al curso.\n"
          ]
        }
      ]
    },
    {
      "cell_type": "code",
      "source": [
        "def multiplicar(a, b):\n",
        "    return a * b\n",
        "\n",
        "print(multiplicar(4, 6))  # 24"
      ],
      "metadata": {
        "colab": {
          "base_uri": "https://localhost:8080/"
        },
        "id": "a15e1SXjq1og",
        "outputId": "2774238c-7a3e-4494-9109-30d4359cc279"
      },
      "execution_count": null,
      "outputs": [
        {
          "output_type": "stream",
          "name": "stdout",
          "text": [
            "24\n"
          ]
        }
      ]
    },
    {
      "cell_type": "code",
      "source": [
        "def ejemplo_print(a, b):\n",
        "    print(a + b)  # solo muestra, no se puede reutilizar\n",
        "\n",
        "def ejemplo_return(a, b):\n",
        "    return a + b  # devuelve el valor\n",
        "\n",
        "ejemplo_print(2, 3)        # Muestra 5 en pantalla\n",
        "resultado = ejemplo_return(2, 3)\n",
        "print(resultado * 2)       # 10 (lo reutilizamos porque return devolvió un valor)"
      ],
      "metadata": {
        "colab": {
          "base_uri": "https://localhost:8080/"
        },
        "id": "B-cqmdSbq3U8",
        "outputId": "d36b319e-1e46-4087-8f07-d85955c43658"
      },
      "execution_count": null,
      "outputs": [
        {
          "output_type": "stream",
          "name": "stdout",
          "text": [
            "5\n",
            "10\n"
          ]
        }
      ]
    },
    {
      "cell_type": "code",
      "source": [
        "curso = \"Python\"  # variable global\n",
        "\n",
        "def cambiar_curso():\n",
        "    curso = \"Java\"  # variable local\n",
        "    print(\"Dentro de la función:\", curso)\n",
        "\n",
        "cambiar_curso()\n",
        "print(\"Fuera de la función:\", curso)\n",
        "# Salida:\n",
        "# Dentro de la función: Java\n",
        "# Fuera de la función: Python"
      ],
      "metadata": {
        "colab": {
          "base_uri": "https://localhost:8080/"
        },
        "id": "UMzHu8S0q7Vl",
        "outputId": "4256d9b0-1318-4cb9-f28c-006c27e46212"
      },
      "execution_count": null,
      "outputs": [
        {
          "output_type": "stream",
          "name": "stdout",
          "text": [
            "Dentro de la función: Java\n",
            "Fuera de la función: Python\n"
          ]
        }
      ]
    },
    {
      "cell_type": "code",
      "source": [
        "def listar_personas(*args):\n",
        "    for nombre in args:\n",
        "        print(\"-\", nombre)\n",
        "\n",
        "listar_personas(\"Ana\", \"Luis\", \"Pedro\", \"Marta\")\n",
        "\n",
        "# - Ana\n",
        "# - Luis\n",
        "# - Pedro\n",
        "# - Marta"
      ],
      "metadata": {
        "colab": {
          "base_uri": "https://localhost:8080/"
        },
        "id": "ttjTwoldsSJo",
        "outputId": "3d829380-1256-41af-8899-717100223cef"
      },
      "execution_count": null,
      "outputs": [
        {
          "output_type": "stream",
          "name": "stdout",
          "text": [
            "- Ana\n",
            "- Luis\n",
            "- Pedro\n",
            "- Marta\n"
          ]
        }
      ]
    },
    {
      "cell_type": "code",
      "source": [
        "def promedio(*args):\n",
        "    return sum(args) / len(args)\n",
        "\n",
        "print(promedio(10, 20, 30))   # 20.0\n",
        "print(promedio(5, 15))        # 10.0"
      ],
      "metadata": {
        "colab": {
          "base_uri": "https://localhost:8080/"
        },
        "id": "60SWrbt6shoi",
        "outputId": "1c1a6260-91ea-43c1-845a-c71ed972dc0c"
      },
      "execution_count": null,
      "outputs": [
        {
          "output_type": "stream",
          "name": "stdout",
          "text": [
            "20.0\n",
            "10.0\n"
          ]
        }
      ]
    },
    {
      "cell_type": "code",
      "source": [
        "def registrar_producto(id, **kwargs):\n",
        "    print(f\"Producto ID: {id}\")\n",
        "    for k, v in kwargs.items():\n",
        "        print(f\"{k}: {v}\")\n",
        "\n",
        "registrar_producto(2001, nombre=\"Laptop\", precio=899.99, stock=10)\n",
        "\n",
        "# Producto ID: 2001\n",
        "# nombre: Laptop\n",
        "# precio: 899.99\n",
        "# stock: 10"
      ],
      "metadata": {
        "colab": {
          "base_uri": "https://localhost:8080/"
        },
        "id": "v8raQ7v_skqc",
        "outputId": "9a570e2c-deb3-45e1-e7c9-f5ba2130de50"
      },
      "execution_count": null,
      "outputs": [
        {
          "output_type": "stream",
          "name": "stdout",
          "text": [
            "Producto ID: 2001\n",
            "nombre: Laptop\n",
            "precio: 899.99\n",
            "stock: 10\n"
          ]
        }
      ]
    },
    {
      "cell_type": "code",
      "source": [
        "def crear_reporte(curso, profesor, *notas, **kwargs):\n",
        "    print(f\"Curso: {curso} - Profesor: {profesor}\")\n",
        "    if notas:\n",
        "        print(\"Promedio de notas:\", sum(notas) / len(notas))\n",
        "    print(\"Datos adicionales:\")\n",
        "    for k, v in kwargs.items():\n",
        "        print(f\" {k}: {v}\")\n",
        "\n",
        "crear_reporte(\n",
        "    \"Python\",\n",
        "    \"Mike\",\n",
        "    8, 9, 10,\n",
        "    alumnos=25,\n",
        "    modalidad=\"online\"\n",
        ")\n",
        "\n",
        "# Curso: Python - Profesor: Mike\n",
        "# Promedio de notas: 9.0\n",
        "# Datos adicionales:\n",
        "#  alumnos: 25\n",
        "#  modalidad: online"
      ],
      "metadata": {
        "colab": {
          "base_uri": "https://localhost:8080/"
        },
        "id": "QLUZPWODsoDK",
        "outputId": "ccf4baf8-4789-40b2-f291-e9805d4d5c3a"
      },
      "execution_count": null,
      "outputs": [
        {
          "output_type": "stream",
          "name": "stdout",
          "text": [
            "Curso: Python - Profesor: Mike\n",
            "Promedio de notas: 9.0\n",
            "Datos adicionales:\n",
            " alumnos: 25\n",
            " modalidad: online\n"
          ]
        }
      ]
    },
    {
      "cell_type": "code",
      "source": [
        "def presentar(nombre, edad, ciudad):\n",
        "    print(f\"Soy {nombre}, tengo {edad} años y vivo en {ciudad}.\")\n",
        "\n",
        "# Lista de datos\n",
        "datos_lista = [\"Ana\", 28, \"Madrid\"]\n",
        "\n",
        "# Diccionario de datos\n",
        "datos_dict = {\"nombre\": \"Alexia\", \"edad\": 35, \"ciudad\": \"San Salvador\"}\n",
        "\n",
        "# Llamada usando * (desempaqueta la lista en orden)\n",
        "presentar(*datos_lista)\n",
        "# Salida: Soy Ana, tengo 28 años y vivo en Madrid.\n",
        "\n",
        "# Llamada usando ** (desempaqueta el diccionario por clave)\n",
        "presentar(**datos_dict)\n",
        "# Salida: Soy Luis, tengo 30 años y vivo en CDMX."
      ],
      "metadata": {
        "colab": {
          "base_uri": "https://localhost:8080/"
        },
        "id": "ucGbukiRsrOr",
        "outputId": "4adc4432-cf33-4c71-9a2a-da4ad5285df0"
      },
      "execution_count": null,
      "outputs": [
        {
          "output_type": "stream",
          "name": "stdout",
          "text": [
            "Soy Ana, tengo 28 años y vivo en Madrid.\n",
            "Soy Alexia, tengo 35 años y vivo en San Salvador.\n"
          ]
        }
      ]
    },
    {
      "cell_type": "code",
      "source": [
        "suma = lambda a, b: a + b\n",
        "print(suma(3, 7))  # 10"
      ],
      "metadata": {
        "colab": {
          "base_uri": "https://localhost:8080/"
        },
        "id": "Moi5_UXgs3Oh",
        "outputId": "137f94b4-360d-4cdc-d335-ea718c5e3937"
      },
      "execution_count": null,
      "outputs": [
        {
          "output_type": "stream",
          "name": "stdout",
          "text": [
            "10\n"
          ]
        }
      ]
    },
    {
      "cell_type": "code",
      "source": [
        "par_impar = lambda n: \"Par\" if n % 2 == 0 else \"Impar\"\n",
        "print(par_impar(8))  # Par\n",
        "print(par_impar(11)) # Impar"
      ],
      "metadata": {
        "colab": {
          "base_uri": "https://localhost:8080/"
        },
        "id": "PK4PUf0lvBVp",
        "outputId": "f079cb2d-6585-4dd7-d35d-4fcc990712c2"
      },
      "execution_count": null,
      "outputs": [
        {
          "output_type": "stream",
          "name": "stdout",
          "text": [
            "Par\n",
            "Impar\n"
          ]
        }
      ]
    },
    {
      "cell_type": "code",
      "source": [
        "cuadrado = lambda x: x * x\n",
        "print(cuadrado(5))  # 25"
      ],
      "metadata": {
        "colab": {
          "base_uri": "https://localhost:8080/"
        },
        "id": "ofUWKp0GvFCb",
        "outputId": "187dc3ad-6254-42ba-b91b-d52ea0d0d60c"
      },
      "execution_count": null,
      "outputs": [
        {
          "output_type": "stream",
          "name": "stdout",
          "text": [
            "25\n"
          ]
        }
      ]
    },
    {
      "cell_type": "code",
      "source": [
        "reversa = lambda texto: texto[::-1]\n",
        "print(reversa(\"python\"))  # nohtyp"
      ],
      "metadata": {
        "colab": {
          "base_uri": "https://localhost:8080/"
        },
        "id": "npVY1g2Px-ya",
        "outputId": "b9e2e11f-41f3-417e-8d66-fc22b033d8d5"
      },
      "execution_count": null,
      "outputs": [
        {
          "output_type": "stream",
          "name": "stdout",
          "text": [
            "nohtyp\n"
          ]
        }
      ]
    },
    {
      "cell_type": "code",
      "source": [
        "mayor = lambda a, b: a if a > b else b\n",
        "print(mayor(12, 7))  # 12"
      ],
      "metadata": {
        "colab": {
          "base_uri": "https://localhost:8080/"
        },
        "id": "T38_KW4dyKjK",
        "outputId": "e42e0471-36f5-4df9-f908-4daaf0ea911b"
      },
      "execution_count": null,
      "outputs": [
        {
          "output_type": "stream",
          "name": "stdout",
          "text": [
            "12\n"
          ]
        }
      ]
    },
    {
      "cell_type": "code",
      "source": [
        "longitud = lambda s: len(s)\n",
        "print(longitud(\"Hola mundo\"))  # 10"
      ],
      "metadata": {
        "colab": {
          "base_uri": "https://localhost:8080/"
        },
        "id": "kugp4yo6yOdv",
        "outputId": "17f48ef6-bf1f-476c-914d-7d7ec53a3d10"
      },
      "execution_count": null,
      "outputs": [
        {
          "output_type": "stream",
          "name": "stdout",
          "text": [
            "10\n"
          ]
        }
      ]
    },
    {
      "cell_type": "code",
      "source": [
        "mensaje = lambda: \"Hola desde lambda\"\n",
        "print(mensaje())  # Hola desde lambda"
      ],
      "metadata": {
        "colab": {
          "base_uri": "https://localhost:8080/"
        },
        "id": "2Pq971zdyYeh",
        "outputId": "061122d8-5c7a-4d40-beb6-96ff57163411"
      },
      "execution_count": null,
      "outputs": [
        {
          "output_type": "stream",
          "name": "stdout",
          "text": [
            "Hola desde lambda\n"
          ]
        }
      ]
    },
    {
      "cell_type": "code",
      "source": [
        "precio_con_iva = lambda precio: precio * 1.16\n",
        "print(precio_con_iva(100))  # 116.0"
      ],
      "metadata": {
        "id": "rPuhclPSydwY"
      },
      "execution_count": null,
      "outputs": []
    },
    {
      "cell_type": "code",
      "source": [
        "ultimo = lambda s: s[-1]\n",
        "print(ultimo(\"Python\"))  # n"
      ],
      "metadata": {
        "colab": {
          "base_uri": "https://localhost:8080/"
        },
        "id": "HQls9880yg70",
        "outputId": "25353bcf-7ab5-4a55-bd14-4f63b6dc733d"
      },
      "execution_count": null,
      "outputs": [
        {
          "output_type": "stream",
          "name": "stdout",
          "text": [
            "n\n"
          ]
        }
      ]
    },
    {
      "cell_type": "code",
      "source": [
        "calculadora = {\n",
        "    \"suma\": lambda a, b: a + b,\n",
        "    \"resta\": lambda a, b: a - b,\n",
        "    \"doble\": lambda x: x * 2\n",
        "}\n",
        "\n",
        "print(calculadora[\"suma\"](5, 3))   # 8\n",
        "print(calculadora[\"resta\"](10, 4)) # 6\n",
        "print(calculadora )     # 14"
      ],
      "metadata": {
        "colab": {
          "base_uri": "https://localhost:8080/"
        },
        "id": "A2zJAXe5yoWU",
        "outputId": "14d52df9-6da1-4328-d6b4-881a52974d81"
      },
      "execution_count": null,
      "outputs": [
        {
          "output_type": "stream",
          "name": "stdout",
          "text": [
            "8\n",
            "6\n",
            "{'suma': <function <lambda> at 0x7c053868e340>, 'resta': <function <lambda> at 0x7c053868ea20>, 'doble': <function <lambda> at 0x7c053868ef20>}\n"
          ]
        }
      ]
    },
    {
      "cell_type": "code",
      "source": [
        "celsius = [0, 10, 20, 30, 40]\n",
        "\n",
        "fahrenheit = list(map(lambda c: c * 9/5 + 32, celsius))\n",
        "print(fahrenheit)\n",
        "# [32.0, 50.0, 68.0, 86.0, 104.0]"
      ],
      "metadata": {
        "colab": {
          "base_uri": "https://localhost:8080/"
        },
        "id": "RWe-IwDqD_7j",
        "outputId": "f62cdc6b-006e-4d03-f5f0-b4a47ece266a"
      },
      "execution_count": 1,
      "outputs": [
        {
          "output_type": "stream",
          "name": "stdout",
          "text": [
            "[32.0, 50.0, 68.0, 86.0, 104.0]\n"
          ]
        }
      ]
    },
    {
      "cell_type": "code",
      "source": [
        "nombres = [\"Ana\", \"Luis\", \"Marta\"]\n",
        "\n",
        "saludos = list(map(lambda n: f\"Hola, {n}\", nombres))\n",
        "print(saludos)\n",
        "# ['Hola, Ana', 'Hola, Luis', 'Hola, Marta']"
      ],
      "metadata": {
        "colab": {
          "base_uri": "https://localhost:8080/"
        },
        "id": "fNt1qmnsIBPr",
        "outputId": "028172ef-df64-427d-d380-da2125a9aa5e"
      },
      "execution_count": 2,
      "outputs": [
        {
          "output_type": "stream",
          "name": "stdout",
          "text": [
            "['Hola, Ana', 'Hola, Luis', 'Hola, Marta']\n"
          ]
        }
      ]
    },
    {
      "cell_type": "code",
      "source": [
        "edades = [15, 18, 22, 12, 30, 17]\n",
        "\n",
        "adultos = list(filter(lambda e: e >= 18, edades))\n",
        "print(adultos)\n",
        "# [18, 22, 30]"
      ],
      "metadata": {
        "colab": {
          "base_uri": "https://localhost:8080/"
        },
        "id": "OD_QYfl6IHnW",
        "outputId": "d80577df-1b41-4857-d064-12f879c0592f"
      },
      "execution_count": 4,
      "outputs": [
        {
          "output_type": "stream",
          "name": "stdout",
          "text": [
            "[18, 22, 30]\n"
          ]
        }
      ]
    },
    {
      "cell_type": "code",
      "source": [
        "frases = [\"Hola\", \"Bienvenidos al bootcamp\", \"Python\", \"Programación funcional\"]\n",
        "\n",
        "largas = list(filter(lambda f: len(f) > 10, frases))\n",
        "print(largas)\n",
        "# ['Bienvenidos al bootcamp', 'Programación funcional']"
      ],
      "metadata": {
        "colab": {
          "base_uri": "https://localhost:8080/"
        },
        "id": "PtTg3PGzIIL-",
        "outputId": "ba975dda-7c9c-4156-c322-b2e94d704818"
      },
      "execution_count": 3,
      "outputs": [
        {
          "output_type": "stream",
          "name": "stdout",
          "text": [
            "['Bienvenidos al bootcamp', 'Programación funcional']\n"
          ]
        }
      ]
    },
    {
      "cell_type": "code",
      "source": [
        "from functools import reduce\n",
        "\n",
        "precios = [100, 250, 50, 200]\n",
        "\n",
        "total = reduce(lambda x, y: x + y, precios)\n",
        "print(total)\n",
        "# 600"
      ],
      "metadata": {
        "colab": {
          "base_uri": "https://localhost:8080/"
        },
        "id": "hfIT8xJ3IMWj",
        "outputId": "d39f8866-dccd-436d-e99c-b3bb89126661"
      },
      "execution_count": 5,
      "outputs": [
        {
          "output_type": "stream",
          "name": "stdout",
          "text": [
            "600\n"
          ]
        }
      ]
    },
    {
      "cell_type": "code",
      "source": [
        "numeros = [15, 88, 3, 42, 67]\n",
        "\n",
        "mayor = reduce(lambda x, y: x if x > y else y, numeros)\n",
        "print(mayor)\n",
        "# 88"
      ],
      "metadata": {
        "colab": {
          "base_uri": "https://localhost:8080/"
        },
        "id": "suh-C0OiIPH6",
        "outputId": "6c4923c0-3b81-4f4d-e4a9-9ef952b3a7d5"
      },
      "execution_count": 6,
      "outputs": [
        {
          "output_type": "stream",
          "name": "stdout",
          "text": [
            "88\n"
          ]
        }
      ]
    },
    {
      "cell_type": "code",
      "source": [
        "palabras = [\"Python\", \"Java\", \"PHP\", \"C++\", \"Perl\"]\n",
        "\n",
        "resultado = list(\n",
        "    map(lambda p: p.lower(), filter(lambda p: p.startswith(\"P\"), palabras))\n",
        ")\n",
        "print(resultado)\n",
        "# ['python', 'php', 'perl']"
      ],
      "metadata": {
        "colab": {
          "base_uri": "https://localhost:8080/"
        },
        "id": "O8s43lH-IT2X",
        "outputId": "7c52e69e-09ba-4065-8ac0-1172af6d72f2"
      },
      "execution_count": 7,
      "outputs": [
        {
          "output_type": "stream",
          "name": "stdout",
          "text": [
            "['python', 'php', 'perl']\n"
          ]
        }
      ]
    },
    {
      "cell_type": "code",
      "source": [
        "productos = [10, 50, 100]  # en USD\n",
        "\n",
        "precios_mxn = list(map(lambda p: p * 17.5, productos))\n",
        "total = reduce(lambda x, y: x + y, precios_mxn)\n",
        "\n",
        "print(precios_mxn)  # [175.0, 875.0, 1750.0]\n",
        "print(total)        # 2800.0"
      ],
      "metadata": {
        "colab": {
          "base_uri": "https://localhost:8080/"
        },
        "id": "TeH3cYGNIW5Y",
        "outputId": "7cfc643d-8bdc-40f7-8867-d04f0cb2892d"
      },
      "execution_count": 8,
      "outputs": [
        {
          "output_type": "stream",
          "name": "stdout",
          "text": [
            "[175.0, 875.0, 1750.0]\n",
            "2800.0\n"
          ]
        }
      ]
    },
    {
      "cell_type": "code",
      "source": [
        "edades = [15, 18, 22, 35, 12, 30]\n",
        "\n",
        "adultos = list(filter(lambda e: e >= 18, edades))\n",
        "promedio = reduce(lambda x, y: x + y, adultos) / len(adultos)\n",
        "\n",
        "print(adultos)   # [18, 22, 35, 30]\n",
        "print(promedio)  # 26.25"
      ],
      "metadata": {
        "colab": {
          "base_uri": "https://localhost:8080/"
        },
        "id": "shPhD6Q1Idmc",
        "outputId": "836c176d-0f3f-4d38-b79f-72bbe211c86e"
      },
      "execution_count": 9,
      "outputs": [
        {
          "output_type": "stream",
          "name": "stdout",
          "text": [
            "[18, 22, 35, 30]\n",
            "26.25\n"
          ]
        }
      ]
    },
    {
      "cell_type": "code",
      "source": [
        "numeros = [1, 2, 3, 4, 5, 6]\n",
        "\n",
        "pares = filter(lambda x: x % 2 == 0, numeros)      # [2, 4, 6]\n",
        "dobles = map(lambda x: x * 2, pares)              # [4, 8, 12]\n",
        "total = reduce(lambda x, y: x + y, dobles)        # 24\n",
        "\n",
        "print(total)\n",
        "# 24"
      ],
      "metadata": {
        "colab": {
          "base_uri": "https://localhost:8080/"
        },
        "id": "L1lTRuf7Ihfs",
        "outputId": "2e1bc622-0cf3-4a0d-b2ba-480958da7f65"
      },
      "execution_count": 10,
      "outputs": [
        {
          "output_type": "stream",
          "name": "stdout",
          "text": [
            "24\n"
          ]
        }
      ]
    },
    {
      "cell_type": "code",
      "source": [
        "def presentar():\n",
        "    return \"Hola, soy estudiante\"\n",
        "\n",
        "f = presentar\n",
        "print(f())   # Hola, soy estudiante"
      ],
      "metadata": {
        "colab": {
          "base_uri": "https://localhost:8080/"
        },
        "id": "W7WQA_dfIlTe",
        "outputId": "eb58819d-6f58-4786-c0f9-6f446b1f4975"
      },
      "execution_count": 11,
      "outputs": [
        {
          "output_type": "stream",
          "name": "stdout",
          "text": [
            "Hola, soy estudiante\n"
          ]
        }
      ]
    },
    {
      "cell_type": "code",
      "source": [
        "def aplicar_dos_veces(func, valor):\n",
        "    return func(func(valor))\n",
        "\n",
        "# Functions that work when applied twice:\n",
        "print(aplicar_dos_veces(str.upper, \"python\"))  # PYTHON\n",
        "print(aplicar_dos_veces(abs, -5))  # 5\n",
        "\n",
        "# Function that doesn't work when applied twice:\n",
        "# print(aplicar_dos_veces(len, [1,2,3,4])) # This will raise a TypeError\n",
        "\n",
        "# Example with a lambda function that can be applied twice\n",
        "add_five = lambda x: x + 5\n",
        "print(aplicar_dos_veces(add_five, 10)) # 20 (10 + 5 = 15, then 15 + 5 = 20)"
      ],
      "metadata": {
        "colab": {
          "base_uri": "https://localhost:8080/"
        },
        "id": "85tsoKkYIzEG",
        "outputId": "c5e3d6ba-49b4-4ff5-abc6-10883719e0d0"
      },
      "execution_count": 13,
      "outputs": [
        {
          "output_type": "stream",
          "name": "stdout",
          "text": [
            "PYTHON\n",
            "5\n",
            "20\n"
          ]
        }
      ]
    },
    {
      "cell_type": "code",
      "source": [
        "def crear_sumador(n):\n",
        "    def sumar(x):\n",
        "        return x + n\n",
        "    return sumar\n",
        "\n",
        "sumar10 = crear_sumador(10)\n",
        "print(sumar10(5))  # 15"
      ],
      "metadata": {
        "colab": {
          "base_uri": "https://localhost:8080/"
        },
        "id": "tZGtVNrmJS7M",
        "outputId": "a9737633-6403-4e00-f790-5ddc607aed53"
      },
      "execution_count": 14,
      "outputs": [
        {
          "output_type": "stream",
          "name": "stdout",
          "text": [
            "15\n"
          ]
        }
      ]
    },
    {
      "cell_type": "code",
      "source": [
        "precios = [120, 50, 200, 30, 400]\n",
        "altos = [p for p in precios if p >= 100]\n",
        "print(altos)\n",
        "# [120, 200, 400]"
      ],
      "metadata": {
        "colab": {
          "base_uri": "https://localhost:8080/"
        },
        "id": "RC_Y0LAzKVgg",
        "outputId": "2916bace-d841-48aa-bdde-579270a1f2c0"
      },
      "execution_count": 15,
      "outputs": [
        {
          "output_type": "stream",
          "name": "stdout",
          "text": [
            "[120, 200, 400]\n"
          ]
        }
      ]
    },
    {
      "cell_type": "code",
      "source": [
        "notas = {\"Ana\": 8, \"Luis\": 5, \"Marta\": 9, \"Pedro\": 6}"
      ],
      "metadata": {
        "id": "n3U3BcGJKZR5"
      },
      "execution_count": 16,
      "outputs": []
    },
    {
      "cell_type": "code",
      "source": [
        "aprobados = {nombre: nota for nombre, nota in notas.items() if nota >= 6}\n",
        "print(aprobados)\n",
        "# {'Ana': 8, 'Marta': 9, 'Pedro': 6}"
      ],
      "metadata": {
        "colab": {
          "base_uri": "https://localhost:8080/"
        },
        "id": "BOTdcatYTcKH",
        "outputId": "2ba944fa-7d56-4889-a56d-a6843bf9a293"
      },
      "execution_count": 17,
      "outputs": [
        {
          "output_type": "stream",
          "name": "stdout",
          "text": [
            "{'Ana': 8, 'Marta': 9, 'Pedro': 6}\n"
          ]
        }
      ]
    },
    {
      "cell_type": "code",
      "source": [
        "frase = \"python es divertido y python es poderoso\""
      ],
      "metadata": {
        "id": "ybTIO6vnTedM"
      },
      "execution_count": 18,
      "outputs": []
    },
    {
      "cell_type": "code",
      "source": [
        "frase = \"python es divertido y python es poderoso\"\n",
        "palabras = {p for p in frase.split()}\n",
        "print(palabras)\n",
        "# {'es', 'poderoso', 'divertido', 'y', 'python'}"
      ],
      "metadata": {
        "colab": {
          "base_uri": "https://localhost:8080/"
        },
        "id": "b5_No0VlTjfc",
        "outputId": "6720f034-445f-42a5-838d-4899c34a98ae"
      },
      "execution_count": 19,
      "outputs": [
        {
          "output_type": "stream",
          "name": "stdout",
          "text": [
            "{'poderoso', 'es', 'y', 'python', 'divertido'}\n"
          ]
        }
      ]
    },
    {
      "cell_type": "code",
      "source": [
        "productos = [(\"Pan\", 20), (\"Leche\", 15), (\"Carne\", 80), (\"Jugo\", 10)]"
      ],
      "metadata": {
        "id": "y4wpyrVTTmr9"
      },
      "execution_count": 20,
      "outputs": []
    },
    {
      "cell_type": "code",
      "source": [
        "productos = [(\"Pan\", 20), (\"Leche\", 15), (\"Carne\", 80), (\"Jugo\", 10)]\n",
        "clasificacion = {nombre: (\"caro\" if precio > 30 else \"barato\") for nombre, precio in productos}\n",
        "print(clasificacion)\n",
        "# {'Pan': 'barato', 'Leche': 'barato', 'Carne': 'caro', 'Jugo': 'barato'}"
      ],
      "metadata": {
        "colab": {
          "base_uri": "https://localhost:8080/"
        },
        "id": "8ovuJ9L1Totb",
        "outputId": "1677d8b0-9e69-42e2-b962-276d501785a6"
      },
      "execution_count": 21,
      "outputs": [
        {
          "output_type": "stream",
          "name": "stdout",
          "text": [
            "{'Pan': 'barato', 'Leche': 'barato', 'Carne': 'caro', 'Jugo': 'barato'}\n"
          ]
        }
      ]
    },
    {
      "cell_type": "code",
      "source": [
        "usuarios = {f\"user{i}\": 1000 + i for i in range(1, 6)}\n",
        "print(usuarios)\n",
        "# {'user1': 1001, 'user2': 1002, 'user3': 1003, 'user4': 1004, 'user5': 1005}"
      ],
      "metadata": {
        "colab": {
          "base_uri": "https://localhost:8080/"
        },
        "id": "42iIIM21Tr7U",
        "outputId": "1777ee26-3ebb-4110-8c0e-f68cf512c7cd"
      },
      "execution_count": 22,
      "outputs": [
        {
          "output_type": "stream",
          "name": "stdout",
          "text": [
            "{'user1': 1001, 'user2': 1002, 'user3': 1003, 'user4': 1004, 'user5': 1005}\n"
          ]
        }
      ]
    },
    {
      "cell_type": "code",
      "source": [
        "nombres = [\"Ana\", \"Luis\", \"Marta\"]\n",
        "vocales = {letra.lower() for nombre in nombres for letra in nombre if letra.lower() in \"aeiou\"}\n",
        "print(vocales)\n",
        "# {'a', 'i', 'u'}"
      ],
      "metadata": {
        "colab": {
          "base_uri": "https://localhost:8080/"
        },
        "id": "GJSbpHgPTuE8",
        "outputId": "c081c648-4c70-4aec-b4a2-813a76e38e94"
      },
      "execution_count": 23,
      "outputs": [
        {
          "output_type": "stream",
          "name": "stdout",
          "text": [
            "{'a', 'i', 'u'}\n"
          ]
        }
      ]
    }
  ],
  "metadata": {
    "kernelspec": {
      "display_name": "Python 3",
      "language": "python",
      "name": "python3"
    },
    "language_info": {
      "name": "python"
    },
    "colab": {
      "provenance": [],
      "include_colab_link": true
    }
  },
  "nbformat": 4,
  "nbformat_minor": 0
}